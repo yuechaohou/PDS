{
 "cells": [
  {
   "cell_type": "code",
   "execution_count": 36,
   "metadata": {},
   "outputs": [],
   "source": [
    "from feature_selection import movie\n",
    "from feature_selection import scraper_rotten_tomatoes\n",
    "import os\n",
    "import pickle\n",
    "import seaborn as sns\n",
    "from multiprocessing import Pool\n",
    "from datetime import datetime\n",
    "import numpy as np\n",
    "import operator\n",
    "\n",
    "sns.set(color_codes=True)"
   ]
  },
  {
   "cell_type": "code",
   "execution_count": 2,
   "metadata": {},
   "outputs": [
    {
     "name": "stdout",
     "output_type": "stream",
     "text": [
      "Action\n",
      "5.667347265\n"
     ]
    }
   ],
   "source": [
    "movie_dict = movie.get_info_with_localname('Black Panther(2018)')\n",
    "print(movie_dict['summary']['Genre'])\n",
    "budget = movie_dict['summary']['Budget']\n",
    "revenue = movie_dict['international']['Worldwide Box Office'][0]['Revenue']\n",
    "ROI = (revenue - budget) / budget\n",
    "print(ROI)"
   ]
  },
  {
   "cell_type": "code",
   "execution_count": 22,
   "metadata": {},
   "outputs": [
    {
     "name": "stdout",
     "output_type": "stream",
     "text": [
      "['Avatar(2009)', 'Pirates of the Caribbean: On Stranger Tides(2011)', 'Avengers: Age of Ultron(2015)', 'Star Wars Ep. VII: The Force Awakens(2015)', 'Pirates of the Caribbean: At World’s End(2007)', 'Justice League(2017)', 'Spectre(2015)', 'The Dark Knight Rises(2012)', 'The Lone Ranger(2013)', 'John Carter(2012)']\n"
     ]
    }
   ],
   "source": [
    "def is_released(movie_name, movie_infos):\n",
    "    if 'Domestic Releases' not in movie_infos[movie_name]['summary']:\n",
    "        return False\n",
    "    elif len(movie_infos[movie_name]['summary']['Domestic Releases'].keys()) == 0:\n",
    "        return False\n",
    "    else:\n",
    "        release = movie_infos[movie_name]['summary']['Domestic Releases']\n",
    "        if 'Wide' in release and release['Wide'] > datetime.now():\n",
    "            return False\n",
    "        elif 'IMAX' in release and release['IMAX'] > datetime.now():\n",
    "            return False\n",
    "        elif 'Limited' in release and release['Limited'] > datetime.now():\n",
    "            return False\n",
    "        else:\n",
    "            return True\n",
    "\n",
    "# get the names of all the movie\n",
    "def get_movie_names_all():\n",
    "    with open('movie_info.pkl', 'rb') as f:\n",
    "        movie_infos = pickle.load(f)\n",
    "    count = 0\n",
    "    movie_names = list(movie_infos.keys())\n",
    "    movie_names = [movie_name for movie_name in movie_names if is_released(movie_name, movie_infos)]\n",
    "    return movie_names\n",
    "\n",
    "print(get_movie_names_all()[:10])"
   ]
  },
  {
   "cell_type": "code",
   "execution_count": 42,
   "metadata": {},
   "outputs": [
    {
     "name": "stdout",
     "output_type": "stream",
     "text": [
      "['Avatar(2009)', 'Pirates of the Caribbean: On Stranger Tides(2011)', 'Avengers: Age of Ultron(2015)', 'Star Wars Ep. VII: The Force Awakens(2015)', 'Pirates of the Caribbean: At World’s End(2007)', 'Justice League(2017)', 'Spectre(2015)', 'The Dark Knight Rises(2012)', 'The Lone Ranger(2013)', 'John Carter(2012)']\n",
      "45000000 25000\n",
      "[('Deep Throat(1972)', 1799.0), ('Mad Max(1980)', 497.75), ('Paranormal Activity(2009)', 430.51785333333333), ('The Gallows(2015)', 416.53881), ('The Blair Witch Project(1999)', 412.8333333333333), ('Super Size Me(2004)', 341.05858461538463), ('Bambi(1942)', 311.35431235431236), ('El Mariachi(1993)', 290.704), ('Night of the Living Dead(1968)', 262.9216140350877), ('Rocky(1976)', 224.0), ('Halloween(1978)', 214.3846153846154), ('The Brothers McMullen(1995)', 207.53012), ('The Texas Chainsaw Massacre(1974)', 188.8031357142857), ('American Graffiti(1973)', 179.18018018018017), ('My Date With Drew(2005)', 163.58272727272728), ('Once(2007)', 154.49371333333335), ('Clerks(1994)', 143.23111111111112), ('The Stewardesses(1969)', 124.0), ('Snow White and the Seven Dwarfs(1937)', 123.27787970430107), ('Billy Jack(1971)', 121.5), ('Primer(2004)', 119.27514285714285), ('In the Company of Men(1997)', 114.34644), ('Napoleon Dynamite(2004)', 114.3067825), ('Open Water(2004)', 110.037282), ('Friday the 13th(1980)', 107.6447290909091), ('Facing the Giants(2006)', 101.43159), ('The Devil Inside(2012)', 100.75949), (\"Sweet Sweetback's Baad Asssss Song(1971)\", 100.33333333333333), ('Gone with the Wind(1939)', 99.13466461538462), ('The Birth of a Nation(1915)', 99.0), ('Graduation Day(1981)', 94.576), ('Cinderella(1950)', 89.89359137931035), ('The Big Parade(1925)', 88.79591836734694), ('Home(2009)', 88.586336), ('Saw(2004)', 85.56668916666666), ('The Evil Dead(1983)', 77.4), ('ET: The Extra-Terrestrial(1982)', 74.52050723809523), ('My Big Fat Greek Wedding(2002)', 73.9780068), ('The Full Monty(1997)', 73.64268085714286), ('Star Wars Ep. IV: A New Hope(1977)', 70.50890972727272), ('Eraserhead(1977)', 69.12524), ('Pi(1998)', 67.80166176470588), ('Dayereh(2001)', 66.378), ('Fireproof(2008)', 65.946594), ('Insidious(2011)', 65.58059066666667), ('Grease(1978)', 63.58562833333333), ('Benji(1974)', 62.11912), ('Unfriended(2015)', 61.869004), ('The Mighty(1998)', 60.21582), ('Chasing Amy(1997)', 59.62038), ('Cat People(1942)', 58.701492537313435), ('Dr. No(1963)', 58.567035), ('Paranormal Activity 2(2010)', 58.17067733333333), ('Woodstock(1970)', 56.508516666666665), ('Split(2017)', 54.6899968), ('God’s Not Dead(2014)', 54.45834086956522), ('Four Weddings and a Funeral(1994)', 52.97684644444445), ('Slacker(1991)', 52.36991304347826), ('An Inconvenient Truth(2006)', 51.769915), ('Hollywood Shuffle(1987)', 51.28617), ('Get Out(2017)', 50.0418114), ('Roger & Me(1989)', 46.90262857142857), (\"National Lampoon's Animal House(1978)\", 46.2), ('Gabriela(2001)', 45.70704), ('Blazing Saddles(1974)', 44.96153846153846), ('Les Intouchables(2012)', 43.89565231481482), ('Moonlight(2016)', 42.55370533333333), ('Chernobyl Diaries(2012)', 41.411721), ('Goldfinger(1964)', 40.63333333333333), (\"She's Gotta Have It(1986)\", 39.78572571428571), ('Das Leben der Anderen(2007)', 39.5985235), ('Paranormal Activity 3(2011)', 39.4106772), ('Following(1999)', 39.0825), ('20,000 Leagues Under the Sea(1916)', 39.0), ('Annabelle(2014)', 38.517372307692305), ('From Russia With Love(1964)', 38.45), ('Jaws(1975)', 38.225), (\"La marche de l'empereur(2005)\", 38.19892911764706), ('The Last Exorcism(2010)', 37.98105555555556), ('The Godfather(1972)', 37.357142857142854), ('Tom Jones(1963)', 36.6), ('Crocodile Dundee(1986)', 36.29585295454545), ('Fahrenheit 9/11(2004)', 35.85815983333333), ('Pinocchio(1940)', 35.82433568767372), ('Dawn of the Dead(1979)', 35.666666666666664), ('Fantasia(1940)', 35.54385964912281), ('House of Wax(1953)', 35.170212765957444), ('Cube(1998)', 34.87626), ('The Last House on the Left(1972)', 34.632183908045974), ('The Sound of Music(1965)', 33.904181219512196), ('Pink Flamingos(1997)', 33.4835), ('Kingdom of the Spiders(1977)', 33.0), ('The Exorcist(1973)', 32.56126116666667), ('The Kentucky Fried Movie(1977)', 32.333333333333336), ('Swingers(1996)', 32.09289), ('Juno(2007)', 32.06430028571429), ('Insidious Chapter 2(2013)', 31.384303), ('Home Alone(1990)', 30.778978333333335), ('Pretty Woman(1990)', 29.90327657142857), ('Young Frankenstein(1974)', 29.821428571428573)]\n"
     ]
    }
   ],
   "source": [
    "# calculate the ROI of a movie\n",
    "def get_ROI(movie_name, all_dict):\n",
    "    movie_dict = all_dict[movie_name]\n",
    "    budget = movie_dict['summary']['Budget']\n",
    "    if len(movie_dict['international']['Worldwide Box Office']) != 0:\n",
    "        revenue = movie_dict['international']['Worldwide Box Office'][0]['Revenue']\n",
    "    elif len(movie_dict['international']['International Box Office']) != 0:\n",
    "        revenue = movie_dict['international']['International Box Office'][0]['Revenue']\n",
    "    elif len(movie_dict['box_office']['demostic']) != 0:\n",
    "        revenue = movie_dict['box_office']['demostic'][0]['Revenue']\n",
    "    else:\n",
    "        return None\n",
    "    if movie_name == 'Deep Throat(1972)':\n",
    "        print(revenue, budget)\n",
    "    ROI = (revenue - budget) / budget\n",
    "    return ROI\n",
    "\n",
    "def get_ROIs():\n",
    "    movie_names = get_movie_names_all()\n",
    "    print(movie_names[:10])\n",
    "    \n",
    "    with open('movie_info.pkl', 'rb') as f:\n",
    "        movie_dict = pickle.load(f)\n",
    "    \n",
    "    output = []\n",
    "    for movie_name in movie_names:\n",
    "        ROI = get_ROI(movie_name, movie_dict)\n",
    "        if ROI is not None:\n",
    "            output.append( (movie_name, ROI) )\n",
    "    \n",
    "    output.sort(key=operator.itemgetter(1))\n",
    "    output.reverse()\n",
    "    return output\n",
    "\n",
    "ROIs = get_ROIs()\n",
    "print(ROIs[:100])"
   ]
  },
  {
   "cell_type": "code",
   "execution_count": 43,
   "metadata": {},
   "outputs": [
    {
     "name": "stdout",
     "output_type": "stream",
     "text": [
      "5051\n",
      "[  1.79900000e+03   4.97750000e+02   4.30517853e+02 ...,  -9.99874545e-01\n",
      "  -9.99974000e-01  -9.99974900e-01]\n"
     ]
    },
    {
     "data": {
      "text/plain": [
       "<matplotlib.axes._subplots.AxesSubplot at 0x1a3c4efac8>"
      ]
     },
     "execution_count": 43,
     "metadata": {},
     "output_type": "execute_result"
    }
   ],
   "source": [
    "# visualize the ROI distributions\n",
    "ROI_to_visualize = np.array([ROI[1] for ROI in ROIs])\n",
    "print(ROI_to_visualize)\n",
    "sns.distplot(ROI_to_visualize)"
   ]
  },
  {
   "cell_type": "code",
   "execution_count": null,
   "metadata": {
    "collapsed": true
   },
   "outputs": [],
   "source": []
  }
 ],
 "metadata": {
  "kernelspec": {
   "display_name": "Python 3",
   "language": "python",
   "name": "python3"
  },
  "language_info": {
   "codemirror_mode": {
    "name": "ipython",
    "version": 3
   },
   "file_extension": ".py",
   "mimetype": "text/x-python",
   "name": "python",
   "nbconvert_exporter": "python",
   "pygments_lexer": "ipython3",
   "version": "3.6.3"
  }
 },
 "nbformat": 4,
 "nbformat_minor": 2
}
