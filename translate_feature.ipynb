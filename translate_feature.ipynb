{
 "cells": [
  {
   "cell_type": "code",
   "execution_count": 11,
   "metadata": {},
   "outputs": [],
   "source": [
    "from feature_selection import movie\n",
    "from feature_selection import scraper_rotten_tomatoes\n",
    "import os\n",
    "import pickle\n",
    "import seaborn as sns\n",
    "from multiprocessing import Pool\n",
    "from datetime import datetime\n",
    "import numpy as np\n",
    "import operator\n",
    "import matplotlib.pyplot as plt\n",
    "\n",
    "sns.set(color_codes=True)"
   ]
  },
  {
   "cell_type": "code",
   "execution_count": 12,
   "metadata": {},
   "outputs": [
    {
     "name": "stdout",
     "output_type": "stream",
     "text": [
      "Action\n",
      "5.667347265\n"
     ]
    }
   ],
   "source": [
    "movie_dict = movie.get_info_with_localname('Black Panther(2018)')\n",
    "print(movie_dict['summary']['Genre'])\n",
    "budget = movie_dict['summary']['Budget']\n",
    "revenue = movie_dict['international']['Worldwide Box Office'][0]['Revenue']\n",
    "ROI = (revenue - budget) / budget\n",
    "print(ROI)"
   ]
  },
  {
   "cell_type": "code",
   "execution_count": 13,
   "metadata": {},
   "outputs": [
    {
     "name": "stdout",
     "output_type": "stream",
     "text": [
      "['Avatar(2009)', 'Pirates of the Caribbean: On Stranger Tides(2011)', 'Avengers: Age of Ultron(2015)', 'Star Wars Ep. VII: The Force Awakens(2015)', 'Pirates of the Caribbean: At World’s End(2007)', 'Justice League(2017)', 'Spectre(2015)', 'The Dark Knight Rises(2012)', 'The Lone Ranger(2013)', 'John Carter(2012)']\n"
     ]
    }
   ],
   "source": [
    "def is_released(movie_name, movie_infos):\n",
    "    if 'Domestic Releases' not in movie_infos[movie_name]['summary']:\n",
    "        return False\n",
    "    elif len(movie_infos[movie_name]['summary']['Domestic Releases'].keys()) == 0:\n",
    "        return False\n",
    "    else:\n",
    "        release = movie_infos[movie_name]['summary']['Domestic Releases']\n",
    "        if 'Wide' in release and release['Wide'] > datetime.now():\n",
    "            return False\n",
    "        elif 'IMAX' in release and release['IMAX'] > datetime.now():\n",
    "            return False\n",
    "        elif 'Limited' in release and release['Limited'] > datetime.now():\n",
    "            return False\n",
    "        else:\n",
    "            return True\n",
    "\n",
    "# get the names of all the movie\n",
    "def get_movie_names_all():\n",
    "    with open('movie_info.pkl', 'rb') as f:\n",
    "        movie_infos = pickle.load(f)\n",
    "    count = 0\n",
    "    movie_names = list(movie_infos.keys())\n",
    "    movie_names = [movie_name for movie_name in movie_names if is_released(movie_name, movie_infos)]\n",
    "    return movie_names\n",
    "\n",
    "print(get_movie_names_all()[:10])"
   ]
  },
  {
   "cell_type": "code",
   "execution_count": 18,
   "metadata": {},
   "outputs": [
    {
     "name": "stdout",
     "output_type": "stream",
     "text": [
      "['Avatar(2009)', 'Pirates of the Caribbean: On Stranger Tides(2011)', 'Avengers: Age of Ultron(2015)', 'Star Wars Ep. VII: The Force Awakens(2015)', 'Pirates of the Caribbean: At World’s End(2007)', 'Justice League(2017)', 'Spectre(2015)', 'The Dark Knight Rises(2012)', 'The Lone Ranger(2013)', 'John Carter(2012)']\n",
      "45000000 25000\n"
     ]
    }
   ],
   "source": [
    "# calculate the ROI of a movie\n",
    "def get_revenue(movie_name, all_dict):\n",
    "    movie_dict = all_dict[movie_name]\n",
    "    if len(movie_dict['international']['Worldwide Box Office']) != 0:\n",
    "        revenue = movie_dict['international']['Worldwide Box Office'][0]['Revenue']\n",
    "    elif len(movie_dict['international']['International Box Office']) != 0:\n",
    "        revenue = movie_dict['international']['International Box Office'][0]['Revenue']\n",
    "    elif len(movie_dict['box_office']['demostic']) != 0:\n",
    "        revenue = movie_dict['box_office']['demostic'][0]['Revenue']\n",
    "    else:\n",
    "        revenue = None\n",
    "    return revenue\n",
    "\n",
    "def get_ROI(movie_name, all_dict):\n",
    "    movie_dict = all_dict[movie_name]\n",
    "    budget = movie_dict['summary']['Budget']\n",
    "    revenue = get_revenue(movie_name, all_dict)\n",
    "    if revenue is None:\n",
    "        return None\n",
    "    if movie_name == 'Deep Throat(1972)':\n",
    "        print(revenue, budget)\n",
    "    ROI = (revenue - budget) / budget\n",
    "    return ROI\n",
    "\n",
    "def get_ROIs():\n",
    "    movie_names = get_movie_names_all()\n",
    "    print(movie_names[:10])\n",
    "    \n",
    "    with open('movie_info.pkl', 'rb') as f:\n",
    "        movie_dict = pickle.load(f)\n",
    "    \n",
    "    output = []\n",
    "    for movie_name in movie_names:\n",
    "        ROI = get_ROI(movie_name, movie_dict)\n",
    "        if ROI is not None:\n",
    "            output.append( (movie_name, ROI) )\n",
    "    \n",
    "    output.sort(key=operator.itemgetter(1))\n",
    "    output.reverse()\n",
    "    return output\n",
    "\n",
    "ROIs = get_ROIs()\n",
    "# print(ROIs[:100])"
   ]
  },
  {
   "cell_type": "code",
   "execution_count": 15,
   "metadata": {
    "scrolled": true
   },
   "outputs": [
    {
     "name": "stdout",
     "output_type": "stream",
     "text": [
      "-0.9999749\n",
      "15.553163\n",
      "[  1.79900000e+03   4.97750000e+02   4.30517853e+02 ...,  -9.99874545e-01\n",
      "  -9.99974000e-01  -9.99974900e-01]\n"
     ]
    },
    {
     "data": {
      "image/png": "[encoded data removed]",
      "text/plain": [
       "<matplotlib.figure.Figure at 0x1a123b2668>"
      ]
     },
     "metadata": {},
     "output_type": "display_data"
    }
   ],
   "source": [
    "# visualize the ROI distributions\n",
    "ROI_np = np.array([ROI[1] for ROI in ROIs])\n",
    "print(ROI_np[-1])\n",
    "print(ROI_np[200])\n",
    "print(ROI_np)\n",
    "\n",
    "sns.distplot(ROI_np[200:])\n",
    "plt.show()"
   ]
  },
  {
   "cell_type": "markdown",
   "metadata": {
    "collapsed": true
   },
   "source": [
    "The individual difference of the ROI of each movie could be very large, ranging from -0.9999749 to 1799. With regard to the movie with exceptionally large ROI, we regard these values as outliers and give special consideration. We divide our ROI range into the following groups: [-0.9999749, 0), [0, 1), [1, 2), [2, 5), [5, 10), [10, 30), [30, ..). Now, we use this boudary to label the different movies."
   ]
  },
  {
   "cell_type": "code",
   "execution_count": 16,
   "metadata": {},
   "outputs": [],
   "source": [
    "# categorize the movie using their ROI\n",
    "def label_movie(roi):\n",
    "    if roi > -1 and roi < 0:\n",
    "        return 0\n",
    "    elif roi >= 0 and roi < 1:\n",
    "        return 1\n",
    "    elif roi >= 1 and roi < 2:\n",
    "        return 2\n",
    "    elif roi >= 2 and roi < 5:\n",
    "        return 3\n",
    "    elif roi >= 3 and roi < 10:\n",
    "        return 4\n",
    "    elif roi >= 10 and roi < 30:\n",
    "        return 5\n",
    "    else:\n",
    "        return 6\n",
    "# label all the movies\n",
    "def label_movies():\n",
    "    ROIs = get_ROIs()\n",
    "    output = []\n",
    "    for ROI in ROIs:\n",
    "        roi = ROI[1]\n",
    "        movie_name = ROI[0]\n",
    "        label = label_movie(roi)\n",
    "        output.append((movie_name, label))\n",
    "    return output"
   ]
  },
  {
   "cell_type": "code",
   "execution_count": 17,
   "metadata": {},
   "outputs": [
    {
     "name": "stdout",
     "output_type": "stream",
     "text": [
      "['Avatar(2009)', 'Pirates of the Caribbean: On Stranger Tides(2011)', 'Avengers: Age of Ultron(2015)', 'Star Wars Ep. VII: The Force Awakens(2015)', 'Pirates of the Caribbean: At World’s End(2007)', 'Justice League(2017)', 'Spectre(2015)', 'The Dark Knight Rises(2012)', 'The Lone Ranger(2013)', 'John Carter(2012)']\n",
      "45000000 25000\n",
      "3\n",
      "{0: 1607, 1: 966, 2: 727, 3: 987, 4: 427, 5: 238, 6: 98}\n"
     ]
    }
   ],
   "source": [
    "# get the distributions of the movies dataset using the ROI\n",
    "\n",
    "movie_names = get_movie_names_all()\n",
    "ROIs = get_ROIs()\n",
    "labels = label_movies()\n",
    "\n",
    "# find out the number of movies for each ROI category\n",
    "labels = label_movies()\n",
    "statistics = {}\n",
    "for i in range(7):\n",
    "    statistics[i] = 0\n",
    "for movie, label in labels:\n",
    "    statistics[label] += 1\n",
    "print(statistics)"
   ]
  },
  {
   "cell_type": "code",
   "execution_count": null,
   "metadata": {
    "collapsed": true
   },
   "outputs": [],
   "source": []
  }
 ],
 "metadata": {
  "kernelspec": {
   "display_name": "Python 3",
   "language": "python",
   "name": "python3"
  },
  "language_info": {
   "codemirror_mode": {
    "name": "ipython",
    "version": 3
   },
   "file_extension": ".py",
   "mimetype": "text/x-python",
   "name": "python",
   "nbconvert_exporter": "python",
   "pygments_lexer": "ipython3",
   "version": "3.6.3"
  }
 },
 "nbformat": 4,
 "nbformat_minor": 2
}
