{
 "cells": [
  {
   "cell_type": "code",
   "execution_count": 84,
   "metadata": {},
   "outputs": [
    {
     "name": "stderr",
     "output_type": "stream",
     "text": [
      "/Users/chenyuan/anaconda3/lib/python3.6/site-packages/nltk/twitter/__init__.py:20: UserWarning: The twython library has not been installed. Some functionality from the twitter package will not be available.\n",
      "  warnings.warn(\"The twython library has not been installed. \"\n"
     ]
    }
   ],
   "source": [
    "from feature_selection import movie\n",
    "from feature_selection import scraper_rotten_tomatoes\n",
    "import os\n",
    "import pickle\n",
    "import seaborn as sns\n",
    "from multiprocessing import Pool\n",
    "from datetime import datetime\n",
    "import numpy as np\n",
    "import operator\n",
    "import matplotlib.pyplot as plt\n",
    "import nltk\n",
    "from nltk.sentiment.vader import SentimentIntensityAnalyzer\n",
    "\n",
    "sns.set(color_codes=True)"
   ]
  },
  {
   "cell_type": "code",
   "execution_count": 83,
   "metadata": {},
   "outputs": [
    {
     "name": "stdout",
     "output_type": "stream",
     "text": [
      "Action\n",
      "['Martial Arts', ' Marvel Comics', ' Royalty', ' Magical Technology', ' World War III', ' Civil War', ' Rebellion', ' Ensemble', ' Africa', ' Fictional Country']\n",
      "5.667347265\n"
     ]
    }
   ],
   "source": [
    "movie_dict = movie.get_info_with_localname('Black Panther(2018)')\n",
    "print(movie_dict['summary']['Genre'])\n",
    "budget = movie_dict['summary']['Budget']\n",
    "revenue = movie_dict['international']['Worldwide Box Office'][0]['Revenue']\n",
    "genre = movie_dict['summary']['Genre']\n",
    "print(keywords)\n",
    "# print(news)\n",
    "ROI = (revenue - budget) / budget\n",
    "print(ROI)"
   ]
  },
  {
   "cell_type": "code",
   "execution_count": 69,
   "metadata": {},
   "outputs": [
    {
     "name": "stdout",
     "output_type": "stream",
     "text": [
      "['Avatar(2009)', 'Pirates of the Caribbean: On Stranger Tides(2011)', 'Avengers: Age of Ultron(2015)', 'Star Wars Ep. VII: The Force Awakens(2015)', 'Pirates of the Caribbean: At World’s End(2007)', 'Justice League(2017)', 'Spectre(2015)', 'The Dark Knight Rises(2012)', 'The Lone Ranger(2013)', 'John Carter(2012)']\n"
     ]
    }
   ],
   "source": [
    "def is_released(movie_name, movie_infos):\n",
    "    if 'Domestic Releases' not in movie_infos[movie_name]['summary']:\n",
    "        return False\n",
    "    elif len(movie_infos[movie_name]['summary']['Domestic Releases'].keys()) == 0:\n",
    "        return False\n",
    "    else:\n",
    "        release = movie_infos[movie_name]['summary']['Domestic Releases']\n",
    "        if 'Wide' in release and release['Wide'] > datetime.now():\n",
    "            return False\n",
    "        elif 'IMAX' in release and release['IMAX'] > datetime.now():\n",
    "            return False\n",
    "        elif 'Limited' in release and release['Limited'] > datetime.now():\n",
    "            return False\n",
    "        else:\n",
    "            return True\n",
    "\n",
    "# get the names of all the movie\n",
    "def get_movie_names_all():\n",
    "    with open('movie_info.pkl', 'rb') as f:\n",
    "        movie_infos = pickle.load(f)\n",
    "    count = 0\n",
    "    movie_names = list(movie_infos.keys())\n",
    "    movie_names = [movie_name for movie_name in movie_names if is_released(movie_name, movie_infos)]\n",
    "    return movie_names\n",
    "\n",
    "print(get_movie_names_all()[:10])"
   ]
  },
  {
   "cell_type": "code",
   "execution_count": 70,
   "metadata": {},
   "outputs": [
    {
     "name": "stdout",
     "output_type": "stream",
     "text": [
      "['Avatar(2009)', 'Pirates of the Caribbean: On Stranger Tides(2011)', 'Avengers: Age of Ultron(2015)', 'Star Wars Ep. VII: The Force Awakens(2015)', 'Pirates of the Caribbean: At World’s End(2007)', 'Justice League(2017)', 'Spectre(2015)', 'The Dark Knight Rises(2012)', 'The Lone Ranger(2013)', 'John Carter(2012)']\n",
      "45000000 25000\n"
     ]
    }
   ],
   "source": [
    "# calculate the ROI of a movie\n",
    "def get_revenue(movie_name, all_dict):\n",
    "    movie_dict = all_dict[movie_name]\n",
    "    if len(movie_dict['international']['Worldwide Box Office']) != 0:\n",
    "        revenue = movie_dict['international']['Worldwide Box Office'][0]['Revenue']\n",
    "    elif len(movie_dict['international']['International Box Office']) != 0:\n",
    "        revenue = movie_dict['international']['International Box Office'][0]['Revenue']\n",
    "    elif len(movie_dict['box_office']['demostic']) != 0:\n",
    "        revenue = movie_dict['box_office']['demostic'][0]['Revenue']\n",
    "    else:\n",
    "        revenue = None\n",
    "    return revenue\n",
    "\n",
    "def get_revenues():\n",
    "    movie_names = get_movie_names_all()\n",
    "    \n",
    "    with open('movie_info.pkl', 'rb') as f:\n",
    "        movie_dict = pickle.load(f)\n",
    "    \n",
    "    output = []\n",
    "    for movie_name in movie_names:\n",
    "        revenue = get_revenue(movie_name, movie_dict)\n",
    "        if revenue is not None:\n",
    "            output.append( (movie_name, revenue) )\n",
    "    return output\n",
    "    \n",
    "\n",
    "def get_ROI(movie_name, all_dict):\n",
    "    movie_dict = all_dict[movie_name]\n",
    "    budget = movie_dict['summary']['Budget']\n",
    "    revenue = get_revenue(movie_name, all_dict)\n",
    "    if revenue is None:\n",
    "        return None\n",
    "    if movie_name == 'Deep Throat(1972)':\n",
    "        print(revenue, budget)\n",
    "    ROI = (revenue - budget) / budget\n",
    "    return ROI\n",
    "\n",
    "def get_ROIs():\n",
    "    movie_names = get_movie_names_all()\n",
    "    print(movie_names[:10])\n",
    "    \n",
    "    with open('movie_info.pkl', 'rb') as f:\n",
    "        movie_dict = pickle.load(f)\n",
    "    \n",
    "    output = []\n",
    "    for movie_name in movie_names:\n",
    "        ROI = get_ROI(movie_name, movie_dict)\n",
    "        if ROI is not None:\n",
    "            output.append( (movie_name, ROI) )\n",
    "    \n",
    "    # output.sort(key=operator.itemgetter(1))\n",
    "    # output.reverse()\n",
    "    return output\n",
    "\n",
    "ROIs = get_ROIs()\n",
    "# print(ROIs[:100])"
   ]
  },
  {
   "cell_type": "code",
   "execution_count": 71,
   "metadata": {
    "scrolled": true
   },
   "outputs": [
    {
     "name": "stdout",
     "output_type": "stream",
     "text": [
      "163.582727273\n",
      "-0.446255463768\n",
      "[   5.5503976     1.54667286    3.25958476 ...,   39.0825       -0.7324\n",
      "  163.58272727]\n"
     ]
    },
    {
     "data": {
      "image/png": "[encoded data removed]",
      "text/plain": [
       "<matplotlib.figure.Figure at 0x1a162d1ef0>"
      ]
     },
     "metadata": {},
     "output_type": "display_data"
    }
   ],
   "source": [
    "# visualize the ROI distributions\n",
    "ROI_np = np.array([ROI[1] for ROI in ROIs])\n",
    "print(ROI_np[-1])\n",
    "print(ROI_np[200])\n",
    "print(ROI_np)\n",
    "\n",
    "sns.distplot(ROI_np[200:])\n",
    "plt.show()"
   ]
  },
  {
   "cell_type": "markdown",
   "metadata": {
    "collapsed": true
   },
   "source": [
    "The individual difference of the ROI of each movie could be very large, ranging from -0.9999749 to 1799. With regard to the movie with exceptionally large ROI, we regard these values as outliers and give special consideration. We divide our ROI range into the following groups: [-0.9999749, 0), [0, 1), [1, 2), [2, 5), [5, 10), [10, 30), [30, ..). Now, we use this boudary to label the different movies."
   ]
  },
  {
   "cell_type": "code",
   "execution_count": 72,
   "metadata": {
    "collapsed": true
   },
   "outputs": [],
   "source": [
    "# categorize the movie using their ROI\n",
    "def label_roi(roi):\n",
    "    if roi > -1 and roi < 0:\n",
    "        return 0\n",
    "    elif roi >= 0 and roi < 1:\n",
    "        return 1\n",
    "    elif roi >= 1 and roi < 2:\n",
    "        return 2\n",
    "    elif roi >= 2 and roi < 5:\n",
    "        return 3\n",
    "    elif roi >= 3 and roi < 10:\n",
    "        return 4\n",
    "    elif roi >= 10 and roi < 30:\n",
    "        return 5\n",
    "    else:\n",
    "        return 6\n",
    "# label all the movies\n",
    "def get_labels_roi():\n",
    "    ROIs = get_ROIs()\n",
    "    output = []\n",
    "    for ROI in ROIs:\n",
    "        roi = ROI[1]\n",
    "        movie_name = ROI[0]\n",
    "        label = label_movie(roi)\n",
    "        output.append((movie_name, label))\n",
    "    return output\n",
    "\n",
    "def label_revenue(revenue):\n",
    "    # pass\n",
    "    if revenue > 0 and revenue < 1000000:\n",
    "        return 0\n",
    "    elif revenue >= 1000000 and revenue < 5000000:\n",
    "        return 1\n",
    "    elif revenue >= 5000000 and revenue < 10000000:\n",
    "        return 2\n",
    "    elif revenue >= 10000000 and revenue < 50000000:\n",
    "        return 3\n",
    "    elif revenue >= 50000000 and revenue < 100000000:\n",
    "        return 4\n",
    "    elif revenue >= 100000000 and revenue < 500000000:\n",
    "        return 5\n",
    "    elif revenue >= 500000000 and revenue < 1000000000:\n",
    "        return 6\n",
    "    else:\n",
    "        return 7\n",
    "\n",
    "def get_labels_revenue():\n",
    "    movie_revenues = get_revenues()\n",
    "    output = []\n",
    "    for movie_revenue in movie_revenues:\n",
    "        movie_name = movie_revenue[0]\n",
    "        revenue = movie_revenue[1]\n",
    "        if revenue is None:\n",
    "            continue\n",
    "        label = label_revenue(revenue)\n",
    "        output.append( (movie_name, label) )\n",
    "    return output\n",
    "    "
   ]
  },
  {
   "cell_type": "code",
   "execution_count": 77,
   "metadata": {},
   "outputs": [
    {
     "name": "stdout",
     "output_type": "stream",
     "text": [
      "['Avatar(2009)', 'Pirates of the Caribbean: On Stranger Tides(2011)', 'Avengers: Age of Ultron(2015)', 'Star Wars Ep. VII: The Force Awakens(2015)', 'Pirates of the Caribbean: At World’s End(2007)', 'Justice League(2017)', 'Spectre(2015)', 'The Dark Knight Rises(2012)', 'The Lone Ranger(2013)', 'John Carter(2012)']\n",
      "45000000 25000\n",
      "['Avatar(2009)', 'Pirates of the Caribbean: On Stranger Tides(2011)', 'Avengers: Age of Ultron(2015)', 'Star Wars Ep. VII: The Force Awakens(2015)', 'Pirates of the Caribbean: At World’s End(2007)', 'Justice League(2017)', 'Spectre(2015)', 'The Dark Knight Rises(2012)', 'The Lone Ranger(2013)', 'John Carter(2012)']\n",
      "45000000 25000\n",
      "{0: 580, 1: 464, 2: 363, 3: 1531, 4: 766, 5: 1165, 6: 149, 7: 32}\n",
      "5050 5050\n",
      "[('Avatar(2009)', 2783918982), ('Pirates of the Caribbean: On Stranger Tides(2011)', 1045663875), ('Avengers: Age of Ultron(2015)', 1408218722), ('Star Wars Ep. VII: The Force Awakens(2015)', 2058662225), ('Pirates of the Caribbean: At World’s End(2007)', 963420425), ('Justice League(2017)', 655953446), ('Spectre(2015)', 879620923), ('The Dark Knight Rises(2012)', 1084439099), ('The Lone Ranger(2013)', 260002115), ('John Carter(2012)', 282778100)]\n",
      "[('Avatar(2009)', 5.550397604705882), ('Pirates of the Caribbean: On Stranger Tides(2011)', 1.5466728567949342), ('Avengers: Age of Ultron(2015)', 3.259584761040532), ('Star Wars Ep. VII: The Force Awakens(2015)', 5.727654330065359), ('Pirates of the Caribbean: At World’s End(2007)', 2.2114014166666665), ('Justice League(2017)', 1.1865114866666666), ('Spectre(2015)', 1.9320697433333334), ('The Dark Knight Rises(2012)', 2.9434149054545453), ('The Lone Ranger(2013)', -0.05453776363636364), ('John Carter(2012)', 0.028284)]\n",
      "['Avatar(2009)', 'Pirates of the Caribbean: On Stranger Tides(2011)', 'Avengers: Age of Ultron(2015)', 'Star Wars Ep. VII: The Force Awakens(2015)', 'Pirates of the Caribbean: At World’s End(2007)', 'Justice League(2017)', 'Spectre(2015)', 'The Dark Knight Rises(2012)', 'The Lone Ranger(2013)', 'John Carter(2012)']\n",
      "45000000 25000\n",
      "{0: 1607, 1: 966, 2: 727, 3: 987, 4: 427, 5: 238, 6: 98}\n"
     ]
    }
   ],
   "source": [
    "# get the distributions of the movies dataset using the ROI\n",
    "\n",
    "movie_names = get_movie_names_all()\n",
    "ROIs = get_ROIs()\n",
    "labels = get_labels_roi()\n",
    "revenues = get_revenues()\n",
    "labels_revenue = get_labels_revenue()\n",
    "statistics_revenue = {}\n",
    "for i in range(8):\n",
    "    statistics_revenue[i] = 0\n",
    "for movie, label in labels_revenue:\n",
    "    statistics_revenue[label] += 1\n",
    "print(statistics_revenue)\n",
    "\n",
    "print(len(revenues), len(ROIs))\n",
    "print(revenues[:10])\n",
    "print(ROIs[:10])\n",
    "\n",
    "# print(revenues[:10])\n",
    "\n",
    "# find out the number of movies for each ROI category\n",
    "labels = label_movies()\n",
    "statistics_roi = {}\n",
    "for i in range(7):\n",
    "    statistics_roi[i] = 0\n",
    "for movie, label in labels:\n",
    "    statistics_roi[label] += 1\n",
    "print(statistics)\n",
    "\n",
    "w, h = 8, 7\n",
    "Matrix = [[[] for x in range(w)] for y in range(h)]\n",
    "Matrix_keywords = [[[] for x in range(w)] for y in range(h)]\n",
    "\n",
    "for i in range(len(revenues)):\n",
    "    row = labels[i][1]\n",
    "    col = labels_revenue[i][1]\n",
    "    Matrix[row][col].append(labels[i][0])\n",
    "# print(Matrix)\n",
    "\n",
    "\n"
   ]
  },
  {
   "cell_type": "code",
   "execution_count": 86,
   "metadata": {},
   "outputs": [
    {
     "name": "stdout",
     "output_type": "stream",
     "text": [
      "0.0 0.254 0.8693 0.746\n",
      "None\n"
     ]
    }
   ],
   "source": [
    "# get the semantics of a comment\n",
    "def get_semantics(text):\n",
    "    sid = SentimentIntensityAnalyzer()\n",
    "    ss = sid.polarity_scores(text)\n",
    "    neg = ss['neg']\n",
    "    neu = ss['neu']\n",
    "    compound = ss['compound']\n",
    "    pos = ss['pos']\n",
    "    print(neg, neu, compound, pos)\n",
    "\n",
    "print(get_semantics(\"This is so great! haha\"))"
   ]
  },
  {
   "cell_type": "code",
   "execution_count": null,
   "metadata": {
    "collapsed": true
   },
   "outputs": [],
   "source": [
    "# get the most frequent keywords for a distribution\n",
    "\n",
    "# get the genre distribution for each category\n",
    "\n",
    "# get the "
   ]
  }
 ],
 "metadata": {
  "kernelspec": {
   "display_name": "Python 3",
   "language": "python",
   "name": "python3"
  },
  "language_info": {
   "codemirror_mode": {
    "name": "ipython",
    "version": 3
   },
   "file_extension": ".py",
   "mimetype": "text/x-python",
   "name": "python",
   "nbconvert_exporter": "python",
   "pygments_lexer": "ipython3",
   "version": "3.6.3"
  }
 },
 "nbformat": 4,
 "nbformat_minor": 2
}
