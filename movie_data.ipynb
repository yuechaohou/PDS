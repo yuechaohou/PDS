{
 "cells": [
  {
   "cell_type": "code",
   "execution_count": 1,
   "metadata": {},
   "outputs": [],
   "source": [
    "import numpy as np\n",
    "import pandas as pd\n",
    "import matplotlib.pyplot as plt\n",
    "import seaborn as sns"
   ]
  },
  {
   "cell_type": "code",
   "execution_count": 2,
   "metadata": {},
   "outputs": [
    {
     "ename": "SyntaxError",
     "evalue": "invalid syntax (<ipython-input-2-bc256eb33b0d>, line 2)",
     "output_type": "error",
     "traceback": [
      "\u001b[0;36m  File \u001b[0;32m\"<ipython-input-2-bc256eb33b0d>\"\u001b[0;36m, line \u001b[0;32m2\u001b[0m\n\u001b[0;31m    def merge_rating_impactFactors()\u001b[0m\n\u001b[0m                                    ^\u001b[0m\n\u001b[0;31mSyntaxError\u001b[0m\u001b[0;31m:\u001b[0m invalid syntax\n"
     ]
    }
   ],
   "source": [
    "# read rating data from rating.csv\n",
    "def merge_rating_impactFactors()\n",
    "    rating = pd.read_csv('ratings.csv')\n",
    "    rating.set_index('name', inplace=True)\n",
    "\n",
    "    # read impact factors, roi, gross form matrix.txt\n",
    "    select_movie = []\n",
    "    roi = []\n",
    "    gross = []\n",
    "\n",
    "    with open(\"matrix.txt\", \"r\") as f:\n",
    "        data = f.readlines() \n",
    "        for line in data:\n",
    "            idx2 = line.rfind(' ')\n",
    "            idx1 = line[:idx2].rfind(' ')\n",
    "            select_movie.append(line[:idx1])\n",
    "            roi.append(int(line[idx1+1:idx2]))\n",
    "            gross.append(int(line[idx2+1:]))\n",
    "\n",
    "    # drop unused data and labels \n",
    "    select_rating = rating.loc[select_movie].drop(['plot'], axis=1)\n",
    "    select_rating['rois'] = np.array(roi)\n",
    "    select_rating['gross'] = np.array(gross)\n",
    "\n",
    "    # use avg to fill NaN data\n",
    "    ratting_var=[\"imdbRating\", \"Rotten_Tomatoes\",\"Metacritic\",\"imdbVotes\"]\n",
    "    for var in ratting_var:\n",
    "        avg = np.mean(select_rating[var].notna())\n",
    "        isNone = pd.isna(select_rating[var])\n",
    "        noneList = []\n",
    "        for i in range(len(isNone)):\n",
    "            if isNone[i] == True:\n",
    "                noneList.append(i)\n",
    "        select_rating[var][noneList] = avg\n",
    "        \n",
    "     # read impact factor from movie_info.csv\n",
    "    impact_factor = pd.read_csv('movie_info.csv')\n",
    "\n",
    "    impact_movie = list(impact_factor['name'])\n",
    "    select_set = set(select_movie)\n",
    "    select_movie2 = []\n",
    "    for movie in impact_movie:\n",
    "        if select_set.__contains__(movie):\n",
    "            select_movie2.append(movie)\n",
    "\n",
    "    select_rating = select_rating.loc[select_movie2]\n",
    "    impact_factor.set_index('name', inplace=True)\n",
    "    impact_factor = impact_factor.loc[select_movie2]\n",
    "\n",
    "    select_rating['budget'] = np.array(impact_factor['budget'])\n",
    "    select_rating['cast'] = np.array(impact_factor['cast'])\n",
    "    select_rating['keywords'] = np.array(impact_factor['keywords'])\n",
    "    select_rating['production_method'] = np.array(impact_factor['production_method'])\n",
    "    select_rating['franchise'] = np.array(impact_factor['franchise'])\n",
    "    select_rating['creative_type'] = np.array(impact_factor['creative_type'])\n",
    "    select_rating['genre'] = np.array(impact_factor['genre'])\n",
    "    select_rating['production_companies'] = np.array(impact_factor['production_companies'])\n",
    "\n",
    "    select_rating.to_csv('movie_data.csv')\n"
   ]
  }
 ],
 "metadata": {
  "kernelspec": {
   "display_name": "Python 3",
   "language": "python",
   "name": "python3"
  },
  "language_info": {
   "codemirror_mode": {
    "name": "ipython",
    "version": 3
   },
   "file_extension": ".py",
   "mimetype": "text/x-python",
   "name": "python",
   "nbconvert_exporter": "python",
   "pygments_lexer": "ipython3",
   "version": "3.6.4"
  }
 },
 "nbformat": 4,
 "nbformat_minor": 2
}
