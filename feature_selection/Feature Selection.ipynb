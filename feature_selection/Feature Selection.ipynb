{
 "cells": [
  {
   "cell_type": "code",
   "execution_count": 48,
   "metadata": {},
   "outputs": [],
   "source": [
    "import numpy as np\n",
    "import pandas as pd\n",
    "from pprint import pprint\n",
    "from movie import *\n",
    "import pickle\n",
    "from multiprocessing import Pool\n",
    "from datetime import datetime\n",
    "from pprint import pprint\n",
    "import math\n",
    "\n",
    "from sklearn.feature_selection import VarianceThreshold\n",
    "import sklearn.datasets as datasets\n",
    "from sklearn.feature_selection import SelectPercentile,f_classif, f_regression,SelectKBest\n",
    "from sklearn.feature_selection import chi2\n",
    "from sklearn.ensemble import RandomForestClassifier\n",
    "from sklearn.feature_selection import RFECV\n",
    "from sklearn.svm import LinearSVC\n",
    "from sklearn.feature_selection import SelectFromModel\n",
    "from sklearn.linear_model import LassoCV"
   ]
  },
  {
   "cell_type": "code",
   "execution_count": 12,
   "metadata": {},
   "outputs": [
    {
     "name": "stdout",
     "output_type": "stream",
     "text": [
      "{'Release Date': datetime.datetime(2004, 6, 23, 0, 0), 'url': 'https://www.the-numbers.com/movie/Fahrenheit-9-11', 'Production Budget': 6000000, 'Domestic Gross': 119114517, 'Worldwide Gross': 221148959}\n"
     ]
    }
   ],
   "source": [
    "with open('name_url.pkl','rb') as f:\n",
    "    name_info=pickle.load(f)\n",
    "\n",
    "print(name_info['Fahrenheit 9/11(2004)'])"
   ]
  },
  {
   "cell_type": "markdown",
   "metadata": {},
   "source": [
    "## Data preprocessing\n"
   ]
  },
  {
   "cell_type": "code",
   "execution_count": 2,
   "metadata": {},
   "outputs": [],
   "source": [
    "def get_roles():\n",
    "    with open('movie_info.pkl', 'rb') as f:\n",
    "        movie_info=pickle.load(f)\n",
    "    \n",
    "    role_set=set()\n",
    "    for name,info in movie_info.items():\n",
    "        if 'production' in info['cast'].keys():\n",
    "            for person in info['cast']['production']:\n",
    "                role_set.add(person['role'])\n",
    "    \n",
    "    return list(role_set)"
   ]
  },
  {
   "cell_type": "code",
   "execution_count": 34,
   "metadata": {
    "scrolled": true
   },
   "outputs": [
    {
     "name": "stdout",
     "output_type": "stream",
     "text": [
      "1965\n"
     ]
    }
   ],
   "source": [
    "print(len(get_roles()))"
   ]
  },
  {
   "cell_type": "code",
   "execution_count": 3,
   "metadata": {},
   "outputs": [
    {
     "name": "stdout",
     "output_type": "stream",
     "text": [
      "{'Release Date': datetime.datetime(1972, 6, 30, 0, 0), 'url': 'https://www.the-numbers.com/movie/Deep-Throat', 'Production Budget': 25000, 'Domestic Gross': 45000000, 'Worldwide Gross': 45000000}\n"
     ]
    }
   ],
   "source": [
    "with open('name_url.pkl','rb') as f:\n",
    "    name_dic=pickle.load(f)\n",
    "\n",
    "print(name_dic['Deep Throat(1972)'])"
   ]
  },
  {
   "cell_type": "code",
   "execution_count": 68,
   "metadata": {},
   "outputs": [],
   "source": [
    "with open('movie_info.pkl','rb') as f:\n",
    "    movie_info=pickle.load(f)\n",
    "    \n",
    "def get_person_info_helper(name, movie_info=movie_info, movie_budget=movie_budget):\n",
    "    \n",
    "    #print(name)\n",
    "    person_name_info=dict()\n",
    "    #cast_url=value+\"#tab=cast-and-crew\"\n",
    "    cast_dic=movie_info[name]['cast']\n",
    "    cast_list=['leading_members', 'supporting_cast', 'cameos', 'uncategorized', 'production']\n",
    "    if 'Domestic Releases' in movie_info[name]['summary'].keys() and min(movie_info[name]['summary']['Domestic Releases'].values())<datetime.now():\n",
    "        for cate in cast_list:\n",
    "            if cate in cast_dic.keys():\n",
    "                for person in cast_dic[cate]:\n",
    "                    person_name=person['name']\n",
    "                    if person_name in person_name_info.keys():\n",
    "                        person_name_info[person_name]=set(list(person_name_info[person_name])+[name])\n",
    "                    else:\n",
    "                        person_name_info[person_name]=set([name])\n",
    "                    \n",
    "    return person_name_info"
   ]
  },
  {
   "cell_type": "code",
   "execution_count": 66,
   "metadata": {},
   "outputs": [
    {
     "data": {
      "text/plain": [
       "{'Andy Gill': {'Black Panther(2018)'},\n",
       " 'Andy Serkis': {'Black Panther(2018)'},\n",
       " 'Angela Bassett': {'Black Panther(2018)'},\n",
       " 'Atandwa Kani': {'Black Panther(2018)'},\n",
       " 'Chadwick Boseman': {'Black Panther(2018)'},\n",
       " 'Claudia Castello': {'Black Panther(2018)'},\n",
       " 'Connie Chuene': {'Black Panther(2018)'},\n",
       " 'Danai Gurira': {'Black Panther(2018)'},\n",
       " 'Daniel Kaluuya': {'Black Panther(2018)'},\n",
       " 'Dave Jordan': {'Black Panther(2018)'},\n",
       " 'David J. Grant': {'Black Panther(2018)'},\n",
       " 'Florence Kasumba': {'Black Panther(2018)'},\n",
       " 'Forest Whitaker': {'Black Panther(2018)'},\n",
       " 'Geoffrey Baumann': {'Black Panther(2018)'},\n",
       " 'Hannah Beachler': {'Black Panther(2018)'},\n",
       " 'Isaach de Bankole': {'Black Panther(2018)'},\n",
       " 'Jack Kirby': {'Black Panther(2018)'},\n",
       " 'Jeffrey Chernov': {'Black Panther(2018)'},\n",
       " 'Joe Robert Cole': {'Black Panther(2018)'},\n",
       " 'John Kani': {'Black Panther(2018)'},\n",
       " 'Kevin Feige': {'Black Panther(2018)'},\n",
       " 'Letitia Wright': {'Black Panther(2018)'},\n",
       " 'Louis D’Esposito': {'Black Panther(2018)'},\n",
       " 'Ludwig Goransson': {'Black Panther(2018)'},\n",
       " \"Lupita Nyong'o\": {'Black Panther(2018)'},\n",
       " 'Martin Freeman': {'Black Panther(2018)'},\n",
       " 'Michael B. Jordan': {'Black Panther(2018)'},\n",
       " 'Michael P. Shawver': {'Black Panther(2018)'},\n",
       " 'Nate Moore': {'Black Panther(2018)'},\n",
       " 'Phylicia Rashad': {'Black Panther(2018)'},\n",
       " 'Rachel Morrison': {'Black Panther(2018)'},\n",
       " 'Ruth Carter': {'Black Panther(2018)'},\n",
       " 'Ryan Coogler': {'Black Panther(2018)'},\n",
       " 'Sarah Halley Finn': {'Black Panther(2018)'},\n",
       " 'Stan Lee': {'Black Panther(2018)'},\n",
       " 'Sterling K. Brown': {'Black Panther(2018)'},\n",
       " 'Sydelle Noel': {'Black Panther(2018)'},\n",
       " 'Victoria Alonso': {'Black Panther(2018)'},\n",
       " 'Winston Duke': {'Black Panther(2018)'}}"
      ]
     },
     "execution_count": 66,
     "metadata": {},
     "output_type": "execute_result"
    }
   ],
   "source": [
    "get_person_info_helper('Black Panther(2018)')"
   ]
  },
  {
   "cell_type": "code",
   "execution_count": 88,
   "metadata": {},
   "outputs": [],
   "source": [
    "def get_all_person_urls():\n",
    "    with open('movie_info.pkl', 'rb') as f:\n",
    "        movie_info=pickle.load(f)\n",
    "    \n",
    "    with open('name_url.pkl','rb') as f:\n",
    "        movie_budget=pickle.load(f)\n",
    "    \n",
    "    total_dic=dict()\n",
    "    keys=list(movie_info.keys())\n",
    "    pool = Pool(processes=10)\n",
    "    pool_outputs = pool.map(get_person_info_helper,keys)\n",
    "    pool.close()\n",
    "    pool.join()\n",
    "    \n",
    "    for item in pool_outputs:\n",
    "        for key, value in item.items():\n",
    "            total_dic[key.strip()]=set(list(total_dic.get(key.strip(),[]))+list(value))\n",
    "    \n",
    "    final_dic=dict()\n",
    "    for key, value in total_dic.items():\n",
    "        total_sum=0\n",
    "        total_count=0\n",
    "        for name in value:\n",
    "            if movie_budget[name]['Worldwide Gross']>0:\n",
    "                total_sum+=movie_budget[name]['Worldwide Gross']\n",
    "                total_count+=1\n",
    "        \n",
    "        final_dic[key]=math.log(total_sum/(total_count+0.1)+1)\n",
    "    \n",
    "    with open('person_info.pkl','wb') as f:\n",
    "        pickle.dump(final_dic, f)\n",
    "        \n",
    "    return"
   ]
  },
  {
   "cell_type": "code",
   "execution_count": 89,
   "metadata": {
    "scrolled": true
   },
   "outputs": [],
   "source": [
    "get_all_person_urls()"
   ]
  },
  {
   "cell_type": "code",
   "execution_count": 90,
   "metadata": {},
   "outputs": [
    {
     "name": "stdout",
     "output_type": "stream",
     "text": [
      "[('Jim McGrath', 21.350012024183115), ('Jessica Sherman', 21.350012024183115), ('Rachel Dill', 21.350012024183115), ('Janet Lewin', 21.350012024183115), (\"Luke O'Byrne\", 21.350012024183115), ('James Clyne', 21.350012024183115), ('Kevin Jenkins', 21.350012024183115), ('Oliver Roberts', 21.350012024183115), ('Aaron E. Schneider', 21.420137163394873), ('Sean Anthony Moran', 21.65181529829283), ('Jason Whyte', 21.65181529829283), ('James Pitt', 21.65181529829283), ('Peter Dillon', 21.65181529829283), ('Kelson Henderson', 21.65181529829283), ('David Van Horn', 21.65181529829283), ('Sonia Yee', 21.65181529829283), ('Jahnel Curfman', 21.65181529829283), ('Kyla Warren', 21.65181529829283), ('Lucy Briant', 21.65181529829283), ('Nathan Meister', 21.65181529829283), ('Gerry Blair', 21.65181529829283), ('Matt Chamberlain', 21.65181529829283), ('Paul Yates', 21.65181529829283), ('Wray Wilson', 21.65181529829283), ('Yuri Bartoli', 21.65181529829283), ('Nick Bassett', 21.65181529829283), ('Rob Bavin', 21.65181529829283), ('Richard Baneham', 21.65181529829283), ('Stan Wilson', 21.65181529829283)]\n",
      "[('Veronica Ngo', 0.0), ('Sai Bennett', 0.0), ('Austin Spangler', 0.0), ('Paul Viragh', 0.0), ('Barbie Latza Nadeau', 0.0), ('Eric Anidjar', 0.0), ('Leon Benarroch', 0.0), ('Roberto Mitrani', 0.0), ('Susana Hornil', 0.0), ('Jonathan Newman', 0.0), ('Christian Taylor', 0.0), ('Matthew Huffman', 0.0), ('G.P. Taylor', 0.0), ('Karl Richards', 0.0), ('Peter Bevan', 0.0), ('Ignasi Estape', 0.0), ('Maurice Chasse', 0.0), ('Marilyn Wallace', 0.0), ('Fumiko Thomas', 0.0), ('Jeremy Burdek', 0.0), ('Javier Areas', 0.0), ('Angel Durandez', 0.0), ('Julian Garcia Rubi', 0.0), ('Julio Piedra', 0.0), ('Cesar Vargas', 0.0), ('Gabriel Arias-Salgado', 0.0), ('Nadia Khamlichi', 0.0), ('Unax Mendia', 0.0), ('R. Martin Klein', 0.0), ('Jacqueline Lovell', 0.0)]\n"
     ]
    }
   ],
   "source": [
    "import operator\n",
    "with open('person_info.pkl', 'rb') as f:\n",
    "    person_info=pickle.load(f)\n",
    "    \n",
    "sorted_person=sorted(person_info.items(), key=lambda d: d[1])\n",
    "print(sorted_person[-30:-1])\n",
    "print(sorted_person[:30])"
   ]
  },
  {
   "cell_type": "code",
   "execution_count": 27,
   "metadata": {},
   "outputs": [],
   "source": [
    "import math\n",
    "with open('movie_info.pkl','rb') as f:\n",
    "    movie_info=pickle.load(f)\n",
    "    \n",
    "with open('name_url.pkl','rb') as f:\n",
    "    movie_budget=pickle.load(f)\n",
    "    \n",
    "def get_company_info_helper(name, movie_info=movie_info, movie_budget=movie_budget):\n",
    "    \n",
    "    company_name_info=dict()\n",
    "    cast_dic=movie_info[name]['summary']\n",
    "    if name in movie_budget.keys() and movie_budget[name]['Release Date']<datetime.now():\n",
    "        if 'Production Companies' in cast_dic.keys():\n",
    "            for company in cast_dic['Production Companies']:\n",
    "                #print(name, company.strip())\n",
    "                bo=movie_budget[name]['Worldwide Gross']\n",
    "                company_name_info[company.strip()]=company_name_info.get(company.strip(),[])+[bo]\n",
    "    \n",
    "    return company_name_info"
   ]
  },
  {
   "cell_type": "code",
   "execution_count": 91,
   "metadata": {},
   "outputs": [],
   "source": [
    "def get_all_company_info():\n",
    "    with open('movie_info.pkl', 'rb') as f:\n",
    "        movie_info=pickle.load(f)\n",
    "    \n",
    "    total_dic=dict()\n",
    "    keys=list(movie_info.keys())\n",
    "    pool = Pool(processes=10)\n",
    "    pool_outputs = pool.map(get_company_info_helper,keys)\n",
    "    pool.close()\n",
    "    pool.join()\n",
    "    \n",
    "    for item in pool_outputs:\n",
    "        for key, value in item.items():\n",
    "            total_dic[key.strip()]=total_dic.get(key.strip(),[])+value\n",
    "    \n",
    "    #pprint(total_dic)\n",
    "    company_info=dict()\n",
    "    for key,value in total_dic.items():\n",
    "        company_info[key]=math.log(np.sum(np.array(value))/(len(value)+0.1)+1)\n",
    "    \n",
    "    with open('company_info.pkl','wb') as f:\n",
    "        pickle.dump(company_info, f)\n",
    "        \n",
    "    return    "
   ]
  },
  {
   "cell_type": "code",
   "execution_count": 92,
   "metadata": {},
   "outputs": [],
   "source": [
    "get_all_company_info()"
   ]
  },
  {
   "cell_type": "code",
   "execution_count": 93,
   "metadata": {},
   "outputs": [
    {
     "name": "stdout",
     "output_type": "stream",
     "text": [
      "[('Fairview Entertainment', 20.16510458271864), ('Kevin Feige', 20.188834252435928), ('Seven Bucks Productions', 20.196674530670407), ('DC Films', 20.206290199799334), ('John Calley', 20.211405000627998), ('Marvel Studios', 20.222776876389098), ('Steve Tisch Productions', 20.2420735023506), ('Esperanto Filmoj', 20.265466411578196), ('Ingenious Film Partners', 20.267055609994152), ('KatzSmith Productions', 20.267644437243806), ('Disney-Pixar', 20.281660856290824), ('Laura Ziskin Productions', 20.301337701538994), ('Tencent Pictures', 20.30207090709969), ('One Race Films', 20.320634559484038), ('Chris Meledandri', 20.326245639902215), ('Lucasfilm', 20.32877095859611), ('Simon Kinberg', 20.337419884892842), ('Wingnut Films', 20.346044102071257), ('Heyday Films', 20.35786380039569), ('Illumination Entertainment', 20.386172563069625), ('China Film Company', 20.409429556800788), ('Wanda Pictures', 20.42585515967782), ('Syncopy', 20.460710614331887), ('Fuji Television Network', 20.507848280283877), ('Lightstorm Entertainment', 20.542933952125612), ('Duncan Henderson Productions', 20.602386917266767), ('Tom DeSanto', 20.644304453252747), ('Don Murphy', 20.644304453252747), ('Eon Productions', 20.66953745286486), ('B23', 20.732790318452746)]\n",
      "[('Cattleya', 0.0), ('Baby Films', 0.0), ('Multitrade', 0.0), ('Ypsilon Films', 0.0), ('Entertainment Motion Pictures', 0.0), ('Intl Pictures Two', 0.0), ('Cinema 4.', 0.0), ('UFund', 0.0), ('Enteraktion Studios', 0.0), ('Cinestyle Media Group', 0.0), ('Savoy & Gregory', 0.0), ('Aperture Entertainment', 0.0), ('Copperheart Entertainment', 0.0), ('Panacea Entertianment', 0.0), ('Inforg Studio', 0.0), ('Boje Buck Produktion', 0.0), ('Odyssey Film Studios Australia', 0.0), ('Hannover House', 0.0), ('East Side Story', 0.0), ('Detention Films', 0.0), ('Indomitable Entertainment', 0.0), ('Glacier Films', 0.0), ('Maple Leaf Capital', 0.0), ('NGN Productions', 0.0), ('Fast Lane Productions', 0.0), ('Premiere Entertainment Group', 0.0), ('Steamroller Productions', 0.0), ('Creative Alliance', 0.0), ('The Long Run', 0.0), ('Unlimited Stories', 0.0)]\n"
     ]
    }
   ],
   "source": [
    "import operator\n",
    "with open('company_info.pkl', 'rb') as f:\n",
    "    company_info=pickle.load(f)\n",
    "    \n",
    "sorted_company=sorted(company_info.items(), key=lambda d: d[1])\n",
    "print(sorted_company[-30:])\n",
    "print(sorted_company[:30])"
   ]
  },
  {
   "cell_type": "code",
   "execution_count": null,
   "metadata": {},
   "outputs": [],
   "source": [
    "temp_list=get_roles()\n",
    "def convert_helper(name, product_list=temp_list):\n",
    "    print(name)\n",
    "    total_dic=dict()\n",
    "    with open('movie_info.pkl', 'rb') as f:\n",
    "        movie_info=pickle.load(f)\n",
    "    \n",
    "    info=movie_info[name]\n",
    "    total_dic['name']=name\n",
    "    sum_list=['Franchise', 'Genre', 'Creative Type', 'Budget', 'Keywords', 'Production Companies','Production Countries', 'Production Method', 'Video Release']\n",
    "    for cate in sum_list:\n",
    "        cate_name='_'.join(cate.lower().split())\n",
    "        if cate in info['summary'].keys():\n",
    "            total_dic[cate_name]=info['summary'][cate]\n",
    "        else:\n",
    "            total_dic[cate_name]='-'\n",
    "    \n",
    "    for item in info['box_office']['demostic']:\n",
    "        if 'Demostic' in item['Record']:\n",
    "            total_dic['demostic']=item['Revenue']\n",
    "            break\n",
    "    \n",
    "    international_list=['International', 'Worldwide']\n",
    "    for cat in international_list:\n",
    "        for item in info['international'][cat+' Box Office']:\n",
    "            if cat in item['Record']:\n",
    "                total_dic[cat.lower()]=item['Revenue']\n",
    "                break\n",
    "                \n",
    "        if cat.lower() not in total_dic.keys():\n",
    "            total_dic[cat.lower()]='-'\n",
    "            \n",
    "    cast_list=['cameos', 'supporting_cast', 'leading_members', 'supporting_cast']\n",
    "    for cate in cast_list:\n",
    "        if cate in info['cast'].keys():\n",
    "            total_dic[cate]=[a['name'] for a in info['cast'][cate]]\n",
    "        else:\n",
    "            total_dic[cate]=[]\n",
    "    \n",
    "    if 'production' in info['cast'].keys():\n",
    "        item=info['cast']['production']\n",
    "        for role in product_list:\n",
    "            total_dic[role]=[a['name'] for a in item if a['role']==role]\n",
    "            \n",
    "    return total_dic"
   ]
  },
  {
   "cell_type": "code",
   "execution_count": null,
   "metadata": {
    "scrolled": true
   },
   "outputs": [],
   "source": [
    "#convert the dictionary to pandas\n",
    "total_dic=dict()\n",
    "with open('name_url.pkl','rb') as f:\n",
    "    name_dic=pickle.load(f)\n",
    "    \n",
    "keys= list(name_dic.keys())\n",
    "pool = Pool(processes=10) \n",
    "pool_outputs = pool.map(convert_helper,keys)\n",
    "pool.close()\n",
    "pool.join()\n",
    "\n",
    "for item in pool_outputs:\n",
    "    for key, value in item.items():\n",
    "        total_dic[key]=total_dic.get(key,[])+[value]\n",
    "    \n",
    "pdf=pd.DataFrame(data=total_dic, columns=total_dic.keys())\n",
    "print(pdf) "
   ]
  },
  {
   "cell_type": "markdown",
   "metadata": {},
   "source": [
    "## Feature Selection\n"
   ]
  },
  {
   "cell_type": "code",
   "execution_count": null,
   "metadata": {},
   "outputs": [],
   "source": [
    "#The importance of the feaures\n"
   ]
  },
  {
   "cell_type": "markdown",
   "metadata": {},
   "source": []
  },
  {
   "cell_type": "code",
   "execution_count": 21,
   "metadata": {},
   "outputs": [
    {
     "name": "stderr",
     "output_type": "stream",
     "text": [
      "100%|██████████| 10/10 [00:00<00:00, 6373.35it/s]\n"
     ]
    }
   ],
   "source": [
    "#Select the important features\n",
    "from tqdm import tqdm\n",
    "for i in tqdm(range(10)):\n",
    "    pass"
   ]
  },
  {
   "cell_type": "markdown",
   "metadata": {},
   "source": [
    "## Visualize the network\n"
   ]
  },
  {
   "cell_type": "code",
   "execution_count": 5,
   "metadata": {},
   "outputs": [
    {
     "data": {
      "text/html": [
       "\n",
       "    <div class=\"bk-root\">\n",
       "        <a href=\"https://bokeh.pydata.org\" target=\"_blank\" class=\"bk-logo bk-logo-small bk-logo-notebook\"></a>\n",
       "        <span id=\"196e54c7-17d3-4b3e-972b-aec2e418543b\">Loading BokehJS ...</span>\n",
       "    </div>"
      ]
     },
     "metadata": {},
     "output_type": "display_data"
    },
    {
     "data": {
      "application/javascript": [
       "\n",
       "(function(root) {\n",
       "  function now() {\n",
       "    return new Date();\n",
       "  }\n",
       "\n",
       "  var force = true;\n",
       "\n",
       "  if (typeof (root._bokeh_onload_callbacks) === \"undefined\" || force === true) {\n",
       "    root._bokeh_onload_callbacks = [];\n",
       "    root._bokeh_is_loading = undefined;\n",
       "  }\n",
       "\n",
       "  var JS_MIME_TYPE = 'application/javascript';\n",
       "  var HTML_MIME_TYPE = 'text/html';\n",
       "  var EXEC_MIME_TYPE = 'application/vnd.bokehjs_exec.v0+json';\n",
       "  var CLASS_NAME = 'output_bokeh rendered_html';\n",
       "\n",
       "  /**\n",
       "   * Render data to the DOM node\n",
       "   */\n",
       "  function render(props, node) {\n",
       "    var script = document.createElement(\"script\");\n",
       "    node.appendChild(script);\n",
       "  }\n",
       "\n",
       "  /**\n",
       "   * Handle when an output is cleared or removed\n",
       "   */\n",
       "  function handleClearOutput(event, handle) {\n",
       "    var cell = handle.cell;\n",
       "\n",
       "    var id = cell.output_area._bokeh_element_id;\n",
       "    var server_id = cell.output_area._bokeh_server_id;\n",
       "    // Clean up Bokeh references\n",
       "    if (id !== undefined) {\n",
       "      Bokeh.index[id].model.document.clear();\n",
       "      delete Bokeh.index[id];\n",
       "    }\n",
       "\n",
       "    if (server_id !== undefined) {\n",
       "      // Clean up Bokeh references\n",
       "      var cmd = \"from bokeh.io.state import curstate; print(curstate().uuid_to_server['\" + server_id + \"'].get_sessions()[0].document.roots[0]._id)\";\n",
       "      cell.notebook.kernel.execute(cmd, {\n",
       "        iopub: {\n",
       "          output: function(msg) {\n",
       "            var element_id = msg.content.text.trim();\n",
       "            Bokeh.index[element_id].model.document.clear();\n",
       "            delete Bokeh.index[element_id];\n",
       "          }\n",
       "        }\n",
       "      });\n",
       "      // Destroy server and session\n",
       "      var cmd = \"import bokeh.io.notebook as ion; ion.destroy_server('\" + server_id + \"')\";\n",
       "      cell.notebook.kernel.execute(cmd);\n",
       "    }\n",
       "  }\n",
       "\n",
       "  /**\n",
       "   * Handle when a new output is added\n",
       "   */\n",
       "  function handleAddOutput(event, handle) {\n",
       "    var output_area = handle.output_area;\n",
       "    var output = handle.output;\n",
       "\n",
       "    // limit handleAddOutput to display_data with EXEC_MIME_TYPE content only\n",
       "    if ((output.output_type != \"display_data\") || (!output.data.hasOwnProperty(EXEC_MIME_TYPE))) {\n",
       "      return\n",
       "    }\n",
       "\n",
       "    var toinsert = output_area.element.find(\".\" + CLASS_NAME.split(' ')[0]);\n",
       "\n",
       "    if (output.metadata[EXEC_MIME_TYPE][\"id\"] !== undefined) {\n",
       "      toinsert[0].firstChild.textContent = output.data[JS_MIME_TYPE];\n",
       "      // store reference to embed id on output_area\n",
       "      output_area._bokeh_element_id = output.metadata[EXEC_MIME_TYPE][\"id\"];\n",
       "    }\n",
       "    if (output.metadata[EXEC_MIME_TYPE][\"server_id\"] !== undefined) {\n",
       "      var bk_div = document.createElement(\"div\");\n",
       "      bk_div.innerHTML = output.data[HTML_MIME_TYPE];\n",
       "      var script_attrs = bk_div.children[0].attributes;\n",
       "      for (var i = 0; i < script_attrs.length; i++) {\n",
       "        toinsert[0].firstChild.setAttribute(script_attrs[i].name, script_attrs[i].value);\n",
       "      }\n",
       "      // store reference to server id on output_area\n",
       "      output_area._bokeh_server_id = output.metadata[EXEC_MIME_TYPE][\"server_id\"];\n",
       "    }\n",
       "  }\n",
       "\n",
       "  function register_renderer(events, OutputArea) {\n",
       "\n",
       "    function append_mime(data, metadata, element) {\n",
       "      // create a DOM node to render to\n",
       "      var toinsert = this.create_output_subarea(\n",
       "        metadata,\n",
       "        CLASS_NAME,\n",
       "        EXEC_MIME_TYPE\n",
       "      );\n",
       "      this.keyboard_manager.register_events(toinsert);\n",
       "      // Render to node\n",
       "      var props = {data: data, metadata: metadata[EXEC_MIME_TYPE]};\n",
       "      render(props, toinsert[0]);\n",
       "      element.append(toinsert);\n",
       "      return toinsert\n",
       "    }\n",
       "\n",
       "    /* Handle when an output is cleared or removed */\n",
       "    events.on('clear_output.CodeCell', handleClearOutput);\n",
       "    events.on('delete.Cell', handleClearOutput);\n",
       "\n",
       "    /* Handle when a new output is added */\n",
       "    events.on('output_added.OutputArea', handleAddOutput);\n",
       "\n",
       "    /**\n",
       "     * Register the mime type and append_mime function with output_area\n",
       "     */\n",
       "    OutputArea.prototype.register_mime_type(EXEC_MIME_TYPE, append_mime, {\n",
       "      /* Is output safe? */\n",
       "      safe: true,\n",
       "      /* Index of renderer in `output_area.display_order` */\n",
       "      index: 0\n",
       "    });\n",
       "  }\n",
       "\n",
       "  // register the mime type if in Jupyter Notebook environment and previously unregistered\n",
       "  if (root.Jupyter !== undefined) {\n",
       "    var events = require('base/js/events');\n",
       "    var OutputArea = require('notebook/js/outputarea').OutputArea;\n",
       "\n",
       "    if (OutputArea.prototype.mime_types().indexOf(EXEC_MIME_TYPE) == -1) {\n",
       "      register_renderer(events, OutputArea);\n",
       "    }\n",
       "  }\n",
       "\n",
       "  \n",
       "  if (typeof (root._bokeh_timeout) === \"undefined\" || force === true) {\n",
       "    root._bokeh_timeout = Date.now() + 5000;\n",
       "    root._bokeh_failed_load = false;\n",
       "  }\n",
       "\n",
       "  var NB_LOAD_WARNING = {'data': {'text/html':\n",
       "     \"<div style='background-color: #fdd'>\\n\"+\n",
       "     \"<p>\\n\"+\n",
       "     \"BokehJS does not appear to have successfully loaded. If loading BokehJS from CDN, this \\n\"+\n",
       "     \"may be due to a slow or bad network connection. Possible fixes:\\n\"+\n",
       "     \"</p>\\n\"+\n",
       "     \"<ul>\\n\"+\n",
       "     \"<li>re-rerun `output_notebook()` to attempt to load from CDN again, or</li>\\n\"+\n",
       "     \"<li>use INLINE resources instead, as so:</li>\\n\"+\n",
       "     \"</ul>\\n\"+\n",
       "     \"<code>\\n\"+\n",
       "     \"from bokeh.resources import INLINE\\n\"+\n",
       "     \"output_notebook(resources=INLINE)\\n\"+\n",
       "     \"</code>\\n\"+\n",
       "     \"</div>\"}};\n",
       "\n",
       "  function display_loaded() {\n",
       "    var el = document.getElementById(\"196e54c7-17d3-4b3e-972b-aec2e418543b\");\n",
       "    if (el != null) {\n",
       "      el.textContent = \"BokehJS is loading...\";\n",
       "    }\n",
       "    if (root.Bokeh !== undefined) {\n",
       "      if (el != null) {\n",
       "        el.textContent = \"BokehJS \" + root.Bokeh.version + \" successfully loaded.\";\n",
       "      }\n",
       "    } else if (Date.now() < root._bokeh_timeout) {\n",
       "      setTimeout(display_loaded, 100)\n",
       "    }\n",
       "  }\n",
       "\n",
       "\n",
       "  function run_callbacks() {\n",
       "    try {\n",
       "      root._bokeh_onload_callbacks.forEach(function(callback) { callback() });\n",
       "    }\n",
       "    finally {\n",
       "      delete root._bokeh_onload_callbacks\n",
       "    }\n",
       "    console.info(\"Bokeh: all callbacks have finished\");\n",
       "  }\n",
       "\n",
       "  function load_libs(js_urls, callback) {\n",
       "    root._bokeh_onload_callbacks.push(callback);\n",
       "    if (root._bokeh_is_loading > 0) {\n",
       "      console.log(\"Bokeh: BokehJS is being loaded, scheduling callback at\", now());\n",
       "      return null;\n",
       "    }\n",
       "    if (js_urls == null || js_urls.length === 0) {\n",
       "      run_callbacks();\n",
       "      return null;\n",
       "    }\n",
       "    console.log(\"Bokeh: BokehJS not loaded, scheduling load and callback at\", now());\n",
       "    root._bokeh_is_loading = js_urls.length;\n",
       "    for (var i = 0; i < js_urls.length; i++) {\n",
       "      var url = js_urls[i];\n",
       "      var s = document.createElement('script');\n",
       "      s.src = url;\n",
       "      s.async = false;\n",
       "      s.onreadystatechange = s.onload = function() {\n",
       "        root._bokeh_is_loading--;\n",
       "        if (root._bokeh_is_loading === 0) {\n",
       "          console.log(\"Bokeh: all BokehJS libraries loaded\");\n",
       "          run_callbacks()\n",
       "        }\n",
       "      };\n",
       "      s.onerror = function() {\n",
       "        console.warn(\"failed to load library \" + url);\n",
       "      };\n",
       "      console.log(\"Bokeh: injecting script tag for BokehJS library: \", url);\n",
       "      document.getElementsByTagName(\"head\")[0].appendChild(s);\n",
       "    }\n",
       "  };var element = document.getElementById(\"196e54c7-17d3-4b3e-972b-aec2e418543b\");\n",
       "  if (element == null) {\n",
       "    console.log(\"Bokeh: ERROR: autoload.js configured with elementid '196e54c7-17d3-4b3e-972b-aec2e418543b' but no matching script tag was found. \")\n",
       "    return false;\n",
       "  }\n",
       "\n",
       "  var js_urls = [\"https://cdn.pydata.org/bokeh/release/bokeh-0.12.13.min.js\", \"https://cdn.pydata.org/bokeh/release/bokeh-widgets-0.12.13.min.js\", \"https://cdn.pydata.org/bokeh/release/bokeh-tables-0.12.13.min.js\", \"https://cdn.pydata.org/bokeh/release/bokeh-gl-0.12.13.min.js\"];\n",
       "\n",
       "  var inline_js = [\n",
       "    function(Bokeh) {\n",
       "      Bokeh.set_log_level(\"info\");\n",
       "    },\n",
       "    \n",
       "    function(Bokeh) {\n",
       "      \n",
       "    },\n",
       "    function(Bokeh) {\n",
       "      console.log(\"Bokeh: injecting CSS: https://cdn.pydata.org/bokeh/release/bokeh-0.12.13.min.css\");\n",
       "      Bokeh.embed.inject_css(\"https://cdn.pydata.org/bokeh/release/bokeh-0.12.13.min.css\");\n",
       "      console.log(\"Bokeh: injecting CSS: https://cdn.pydata.org/bokeh/release/bokeh-widgets-0.12.13.min.css\");\n",
       "      Bokeh.embed.inject_css(\"https://cdn.pydata.org/bokeh/release/bokeh-widgets-0.12.13.min.css\");\n",
       "      console.log(\"Bokeh: injecting CSS: https://cdn.pydata.org/bokeh/release/bokeh-tables-0.12.13.min.css\");\n",
       "      Bokeh.embed.inject_css(\"https://cdn.pydata.org/bokeh/release/bokeh-tables-0.12.13.min.css\");\n",
       "    }\n",
       "  ];\n",
       "\n",
       "  function run_inline_js() {\n",
       "    \n",
       "    if ((root.Bokeh !== undefined) || (force === true)) {\n",
       "      for (var i = 0; i < inline_js.length; i++) {\n",
       "        inline_js[i].call(root, root.Bokeh);\n",
       "      }if (force === true) {\n",
       "        display_loaded();\n",
       "      }} else if (Date.now() < root._bokeh_timeout) {\n",
       "      setTimeout(run_inline_js, 100);\n",
       "    } else if (!root._bokeh_failed_load) {\n",
       "      console.log(\"Bokeh: BokehJS failed to load within specified timeout.\");\n",
       "      root._bokeh_failed_load = true;\n",
       "    } else if (force !== true) {\n",
       "      var cell = $(document.getElementById(\"196e54c7-17d3-4b3e-972b-aec2e418543b\")).parents('.cell').data().cell;\n",
       "      cell.output_area.append_execute_result(NB_LOAD_WARNING)\n",
       "    }\n",
       "\n",
       "  }\n",
       "\n",
       "  if (root._bokeh_is_loading === 0) {\n",
       "    console.log(\"Bokeh: BokehJS loaded, going straight to plotting\");\n",
       "    run_inline_js();\n",
       "  } else {\n",
       "    load_libs(js_urls, function() {\n",
       "      console.log(\"Bokeh: BokehJS plotting callback run at\", now());\n",
       "      run_inline_js();\n",
       "    });\n",
       "  }\n",
       "}(window));"
      ],
      "application/vnd.bokehjs_load.v0+json": "\n(function(root) {\n  function now() {\n    return new Date();\n  }\n\n  var force = true;\n\n  if (typeof (root._bokeh_onload_callbacks) === \"undefined\" || force === true) {\n    root._bokeh_onload_callbacks = [];\n    root._bokeh_is_loading = undefined;\n  }\n\n  \n\n  \n  if (typeof (root._bokeh_timeout) === \"undefined\" || force === true) {\n    root._bokeh_timeout = Date.now() + 5000;\n    root._bokeh_failed_load = false;\n  }\n\n  var NB_LOAD_WARNING = {'data': {'text/html':\n     \"<div style='background-color: #fdd'>\\n\"+\n     \"<p>\\n\"+\n     \"BokehJS does not appear to have successfully loaded. If loading BokehJS from CDN, this \\n\"+\n     \"may be due to a slow or bad network connection. Possible fixes:\\n\"+\n     \"</p>\\n\"+\n     \"<ul>\\n\"+\n     \"<li>re-rerun `output_notebook()` to attempt to load from CDN again, or</li>\\n\"+\n     \"<li>use INLINE resources instead, as so:</li>\\n\"+\n     \"</ul>\\n\"+\n     \"<code>\\n\"+\n     \"from bokeh.resources import INLINE\\n\"+\n     \"output_notebook(resources=INLINE)\\n\"+\n     \"</code>\\n\"+\n     \"</div>\"}};\n\n  function display_loaded() {\n    var el = document.getElementById(\"196e54c7-17d3-4b3e-972b-aec2e418543b\");\n    if (el != null) {\n      el.textContent = \"BokehJS is loading...\";\n    }\n    if (root.Bokeh !== undefined) {\n      if (el != null) {\n        el.textContent = \"BokehJS \" + root.Bokeh.version + \" successfully loaded.\";\n      }\n    } else if (Date.now() < root._bokeh_timeout) {\n      setTimeout(display_loaded, 100)\n    }\n  }\n\n\n  function run_callbacks() {\n    try {\n      root._bokeh_onload_callbacks.forEach(function(callback) { callback() });\n    }\n    finally {\n      delete root._bokeh_onload_callbacks\n    }\n    console.info(\"Bokeh: all callbacks have finished\");\n  }\n\n  function load_libs(js_urls, callback) {\n    root._bokeh_onload_callbacks.push(callback);\n    if (root._bokeh_is_loading > 0) {\n      console.log(\"Bokeh: BokehJS is being loaded, scheduling callback at\", now());\n      return null;\n    }\n    if (js_urls == null || js_urls.length === 0) {\n      run_callbacks();\n      return null;\n    }\n    console.log(\"Bokeh: BokehJS not loaded, scheduling load and callback at\", now());\n    root._bokeh_is_loading = js_urls.length;\n    for (var i = 0; i < js_urls.length; i++) {\n      var url = js_urls[i];\n      var s = document.createElement('script');\n      s.src = url;\n      s.async = false;\n      s.onreadystatechange = s.onload = function() {\n        root._bokeh_is_loading--;\n        if (root._bokeh_is_loading === 0) {\n          console.log(\"Bokeh: all BokehJS libraries loaded\");\n          run_callbacks()\n        }\n      };\n      s.onerror = function() {\n        console.warn(\"failed to load library \" + url);\n      };\n      console.log(\"Bokeh: injecting script tag for BokehJS library: \", url);\n      document.getElementsByTagName(\"head\")[0].appendChild(s);\n    }\n  };var element = document.getElementById(\"196e54c7-17d3-4b3e-972b-aec2e418543b\");\n  if (element == null) {\n    console.log(\"Bokeh: ERROR: autoload.js configured with elementid '196e54c7-17d3-4b3e-972b-aec2e418543b' but no matching script tag was found. \")\n    return false;\n  }\n\n  var js_urls = [\"https://cdn.pydata.org/bokeh/release/bokeh-0.12.13.min.js\", \"https://cdn.pydata.org/bokeh/release/bokeh-widgets-0.12.13.min.js\", \"https://cdn.pydata.org/bokeh/release/bokeh-tables-0.12.13.min.js\", \"https://cdn.pydata.org/bokeh/release/bokeh-gl-0.12.13.min.js\"];\n\n  var inline_js = [\n    function(Bokeh) {\n      Bokeh.set_log_level(\"info\");\n    },\n    \n    function(Bokeh) {\n      \n    },\n    function(Bokeh) {\n      console.log(\"Bokeh: injecting CSS: https://cdn.pydata.org/bokeh/release/bokeh-0.12.13.min.css\");\n      Bokeh.embed.inject_css(\"https://cdn.pydata.org/bokeh/release/bokeh-0.12.13.min.css\");\n      console.log(\"Bokeh: injecting CSS: https://cdn.pydata.org/bokeh/release/bokeh-widgets-0.12.13.min.css\");\n      Bokeh.embed.inject_css(\"https://cdn.pydata.org/bokeh/release/bokeh-widgets-0.12.13.min.css\");\n      console.log(\"Bokeh: injecting CSS: https://cdn.pydata.org/bokeh/release/bokeh-tables-0.12.13.min.css\");\n      Bokeh.embed.inject_css(\"https://cdn.pydata.org/bokeh/release/bokeh-tables-0.12.13.min.css\");\n    }\n  ];\n\n  function run_inline_js() {\n    \n    if ((root.Bokeh !== undefined) || (force === true)) {\n      for (var i = 0; i < inline_js.length; i++) {\n        inline_js[i].call(root, root.Bokeh);\n      }if (force === true) {\n        display_loaded();\n      }} else if (Date.now() < root._bokeh_timeout) {\n      setTimeout(run_inline_js, 100);\n    } else if (!root._bokeh_failed_load) {\n      console.log(\"Bokeh: BokehJS failed to load within specified timeout.\");\n      root._bokeh_failed_load = true;\n    } else if (force !== true) {\n      var cell = $(document.getElementById(\"196e54c7-17d3-4b3e-972b-aec2e418543b\")).parents('.cell').data().cell;\n      cell.output_area.append_execute_result(NB_LOAD_WARNING)\n    }\n\n  }\n\n  if (root._bokeh_is_loading === 0) {\n    console.log(\"Bokeh: BokehJS loaded, going straight to plotting\");\n    run_inline_js();\n  } else {\n    load_libs(js_urls, function() {\n      console.log(\"Bokeh: BokehJS plotting callback run at\", now());\n      run_inline_js();\n    });\n  }\n}(window));"
     },
     "metadata": {},
     "output_type": "display_data"
    },
    {
     "data": {
      "text/html": [
       "\n",
       "<div class=\"bk-root\">\n",
       "    <div class=\"bk-plotdiv\" id=\"18b342da-e3ea-47d8-8fb1-9e21fdb7f920\"></div>\n",
       "</div>"
      ]
     },
     "metadata": {},
     "output_type": "display_data"
    },
    {
     "data": {
      "application/javascript": [
       "(function(root) {\n",
       "  function embed_document(root) {\n",
       "    \n",
       "  var docs_json = {\"cd2f05f3-e472-45ab-b4b7-d6e7d87c8c74\":{\"roots\":{\"references\":[{\"attributes\":{\"plot\":null,\"text\":\"Networkx Integration Demonstration\"},\"id\":\"75f46cf6-526b-4872-83f5-227727362742\",\"type\":\"Title\"},{\"attributes\":{},\"id\":\"c70d2c7d-2abc-40bc-a442-172a0668d20c\",\"type\":\"LinearScale\"},{\"attributes\":{},\"id\":\"28832ca9-af23-4383-8b09-f3bf4faea67e\",\"type\":\"LinearScale\"},{\"attributes\":{},\"id\":\"5a4fd2d0-2efb-4e80-85b3-b5f4af0d89e7\",\"type\":\"Circle\"},{\"attributes\":{\"active_drag\":\"auto\",\"active_inspect\":\"auto\",\"active_scroll\":\"auto\",\"active_tap\":\"auto\",\"tools\":[{\"id\":\"303488a0-ff57-4cc3-a214-47eb039a8021\",\"type\":\"PanTool\"},{\"id\":\"1df4df40-2d3a-4e6f-9def-62e83733f340\",\"type\":\"WheelZoomTool\"},{\"id\":\"1e84d94b-8b79-4fb8-9d27-053dbdfd861c\",\"type\":\"BoxZoomTool\"},{\"id\":\"eb98e8a3-3d22-4472-9bc3-8d6101d42546\",\"type\":\"SaveTool\"},{\"id\":\"554f956b-a228-4327-8565-0ef7033a310a\",\"type\":\"ResetTool\"},{\"id\":\"3dcdbd66-08e6-4483-a341-f52cd663753a\",\"type\":\"HelpTool\"}]},\"id\":\"f3d5f4de-4ba9-438c-9015-48ffa48cb7f1\",\"type\":\"Toolbar\"},{\"attributes\":{\"data_source\":{\"id\":\"f6898fc6-3c33-4939-9b25-90f217e568d2\",\"type\":\"ColumnDataSource\"},\"glyph\":{\"id\":\"5a4fd2d0-2efb-4e80-85b3-b5f4af0d89e7\",\"type\":\"Circle\"},\"hover_glyph\":null,\"muted_glyph\":null,\"view\":{\"id\":\"1a5f2fa7-5a03-455d-ab07-421cb9b31b60\",\"type\":\"CDSView\"}},\"id\":\"6271850b-80ad-48e8-93a9-0c3148c54396\",\"type\":\"GlyphRenderer\"},{\"attributes\":{},\"id\":\"38eb91f6-fcab-48f7-9aa1-2590ed0cfe5a\",\"type\":\"BasicTicker\"},{\"attributes\":{\"edge_renderer\":{\"id\":\"1ea80541-44a5-4790-a30f-ede4ee4ae9b7\",\"type\":\"GlyphRenderer\"},\"inspection_policy\":{\"id\":\"c9413f6c-9b88-4b33-8ce3-4e96c8ebe62f\",\"type\":\"NodesOnly\"},\"layout_provider\":{\"id\":\"d0571e7d-95ae-41ca-b10b-d826d222d59d\",\"type\":\"StaticLayoutProvider\"},\"node_renderer\":{\"id\":\"6271850b-80ad-48e8-93a9-0c3148c54396\",\"type\":\"GlyphRenderer\"},\"selection_policy\":{\"id\":\"0638b0d4-066b-4c85-b4ea-3ceab7766ef8\",\"type\":\"NodesOnly\"}},\"id\":\"3d8cda0f-3255-4eb3-b2b5-af614436334b\",\"type\":\"GraphRenderer\"},{\"attributes\":{},\"id\":\"2355602e-9ddb-4135-9a27-f8c1e8999330\",\"type\":\"BasicTickFormatter\"},{\"attributes\":{\"bottom_units\":\"screen\",\"fill_alpha\":{\"value\":0.5},\"fill_color\":{\"value\":\"lightgrey\"},\"left_units\":\"screen\",\"level\":\"overlay\",\"line_alpha\":{\"value\":1.0},\"line_color\":{\"value\":\"black\"},\"line_dash\":[4,4],\"line_width\":{\"value\":2},\"plot\":null,\"render_mode\":\"css\",\"right_units\":\"screen\",\"top_units\":\"screen\"},\"id\":\"93d00688-4ab0-46ab-9d98-4586a3bcb633\",\"type\":\"BoxAnnotation\"},{\"attributes\":{},\"id\":\"303488a0-ff57-4cc3-a214-47eb039a8021\",\"type\":\"PanTool\"},{\"attributes\":{\"callback\":null,\"column_names\":[\"index\"],\"data\":{\"index\":[0,1,2,3,4,5,6,7,8,9,10,11,12,13,14,15,16,17,18,19,20,21,22,23,24,25,26,27,28,29,30,31,32,33]}},\"id\":\"f6898fc6-3c33-4939-9b25-90f217e568d2\",\"type\":\"ColumnDataSource\"},{\"attributes\":{},\"id\":\"1df4df40-2d3a-4e6f-9def-62e83733f340\",\"type\":\"WheelZoomTool\"},{\"attributes\":{\"overlay\":{\"id\":\"93d00688-4ab0-46ab-9d98-4586a3bcb633\",\"type\":\"BoxAnnotation\"}},\"id\":\"1e84d94b-8b79-4fb8-9d27-053dbdfd861c\",\"type\":\"BoxZoomTool\"},{\"attributes\":{},\"id\":\"eb98e8a3-3d22-4472-9bc3-8d6101d42546\",\"type\":\"SaveTool\"},{\"attributes\":{},\"id\":\"554f956b-a228-4327-8565-0ef7033a310a\",\"type\":\"ResetTool\"},{\"attributes\":{},\"id\":\"3dcdbd66-08e6-4483-a341-f52cd663753a\",\"type\":\"HelpTool\"},{\"attributes\":{},\"id\":\"1cb1a482-f708-4afb-9483-26fb095eaa2f\",\"type\":\"MultiLine\"},{\"attributes\":{\"source\":{\"id\":\"f6898fc6-3c33-4939-9b25-90f217e568d2\",\"type\":\"ColumnDataSource\"}},\"id\":\"1a5f2fa7-5a03-455d-ab07-421cb9b31b60\",\"type\":\"CDSView\"},{\"attributes\":{\"below\":[{\"id\":\"ddbeea5f-4bbe-4ab8-9686-18f90237c987\",\"type\":\"LinearAxis\"}],\"left\":[{\"id\":\"1a435e3f-e968-403b-98dc-3bdde7727611\",\"type\":\"LinearAxis\"}],\"renderers\":[{\"id\":\"ddbeea5f-4bbe-4ab8-9686-18f90237c987\",\"type\":\"LinearAxis\"},{\"id\":\"9fd68dc4-9b61-41c9-87c0-fe7a04091a64\",\"type\":\"Grid\"},{\"id\":\"1a435e3f-e968-403b-98dc-3bdde7727611\",\"type\":\"LinearAxis\"},{\"id\":\"2fb754f0-6756-4c71-8cc5-f44ebad49d2a\",\"type\":\"Grid\"},{\"id\":\"93d00688-4ab0-46ab-9d98-4586a3bcb633\",\"type\":\"BoxAnnotation\"},{\"id\":\"3d8cda0f-3255-4eb3-b2b5-af614436334b\",\"type\":\"GraphRenderer\"}],\"title\":{\"id\":\"75f46cf6-526b-4872-83f5-227727362742\",\"type\":\"Title\"},\"toolbar\":{\"id\":\"f3d5f4de-4ba9-438c-9015-48ffa48cb7f1\",\"type\":\"Toolbar\"},\"x_range\":{\"id\":\"db47249b-ba32-4b32-9f47-5e3d07ea7092\",\"type\":\"Range1d\"},\"x_scale\":{\"id\":\"28832ca9-af23-4383-8b09-f3bf4faea67e\",\"type\":\"LinearScale\"},\"y_range\":{\"id\":\"ffb862ab-012e-4aee-94e7-d8ff510d969b\",\"type\":\"Range1d\"},\"y_scale\":{\"id\":\"c70d2c7d-2abc-40bc-a442-172a0668d20c\",\"type\":\"LinearScale\"}},\"id\":\"412c3853-8bb3-4212-9741-01e4a0563eb4\",\"subtype\":\"Figure\",\"type\":\"Plot\"},{\"attributes\":{\"callback\":null,\"column_names\":[\"start\",\"end\"],\"data\":{\"end\":[1,2,3,4,5,6,7,8,10,11,12,13,17,19,21,31,2,3,7,13,17,19,21,30,3,7,8,9,13,27,28,32,7,12,13,6,10,6,10,16,16,30,32,33,33,33,32,33,32,33,32,33,33,32,33,32,33,25,27,29,32,33,25,27,31,31,29,33,33,31,33,32,33,32,33,32,33,33],\"start\":[0,0,0,0,0,0,0,0,0,0,0,0,0,0,0,0,1,1,1,1,1,1,1,1,2,2,2,2,2,2,2,2,3,3,3,4,4,5,5,5,6,8,8,8,9,13,14,14,15,15,18,18,19,20,20,22,22,23,23,23,23,23,24,24,24,25,26,26,27,28,28,29,29,30,30,31,31,32]}},\"id\":\"1d9fdf73-d960-409b-b307-d905991d8030\",\"type\":\"ColumnDataSource\"},{\"attributes\":{\"callback\":null,\"end\":1.1,\"start\":-1.1},\"id\":\"db47249b-ba32-4b32-9f47-5e3d07ea7092\",\"type\":\"Range1d\"},{\"attributes\":{\"source\":{\"id\":\"1d9fdf73-d960-409b-b307-d905991d8030\",\"type\":\"ColumnDataSource\"}},\"id\":\"18a5638a-7c9f-4eda-aae1-5717d2529a18\",\"type\":\"CDSView\"},{\"attributes\":{},\"id\":\"da0beac2-33fd-441b-ba9d-888cecb4402e\",\"type\":\"BasicTicker\"},{\"attributes\":{\"data_source\":{\"id\":\"1d9fdf73-d960-409b-b307-d905991d8030\",\"type\":\"ColumnDataSource\"},\"glyph\":{\"id\":\"1cb1a482-f708-4afb-9483-26fb095eaa2f\",\"type\":\"MultiLine\"},\"hover_glyph\":null,\"muted_glyph\":null,\"view\":{\"id\":\"18a5638a-7c9f-4eda-aae1-5717d2529a18\",\"type\":\"CDSView\"}},\"id\":\"1ea80541-44a5-4790-a30f-ede4ee4ae9b7\",\"type\":\"GlyphRenderer\"},{\"attributes\":{\"dimension\":1,\"plot\":{\"id\":\"412c3853-8bb3-4212-9741-01e4a0563eb4\",\"subtype\":\"Figure\",\"type\":\"Plot\"},\"ticker\":{\"id\":\"38eb91f6-fcab-48f7-9aa1-2590ed0cfe5a\",\"type\":\"BasicTicker\"}},\"id\":\"2fb754f0-6756-4c71-8cc5-f44ebad49d2a\",\"type\":\"Grid\"},{\"attributes\":{\"graph_layout\":{\"0\":[-0.7088931742133824,0.15641578144081758],\"1\":[-0.28939533606677637,0.5079524426502285],\"10\":[-1.4076620383506446,0.08185758661431053],\"11\":[-1.3993224101147497,0.5801642911701512],\"12\":[-1.0497684768874949,0.41164486207301804],\"13\":[-0.1410966334465775,0.15448262357765358],\"14\":[1.281722687888873,0.17867901848572276],\"15\":[1.1751573128018944,-0.4662486602245334],\"16\":[-2.0,-0.43525186747381944],\"17\":[-0.6420408222724667,0.8545304686373527],\"18\":[1.1958901505549124,0.3729433373804509],\"19\":[0.005744056687401162,0.392180270495759],\"2\":[-0.01639553648364457,-0.00421634083653648],\"20\":[1.3055010946766457,-0.07687127748947255],\"21\":[-0.839104388120484,0.7318796529296029],\"22\":[0.998581696394527,0.4861231360449342],\"23\":[0.8546759035829803,-0.575108074588498],\"24\":[0.24367371830975926,-1.0690978748095934],\"25\":[0.5446460154598113,-1.0264530020448084],\"26\":[1.5434110342495353,-0.12883486999621876],\"27\":[0.4377042554690708,-0.5945422549973215],\"28\":[0.335774168111675,-0.34472228508958774],\"29\":[1.1951408041388443,-0.28306876059067776],\"3\":[-0.5331099604887846,0.22686729080802462],\"30\":[0.432243106501245,0.4238989861339683],\"31\":[0.1564260601952018,-0.4516212172969467],\"32\":[0.7976727194868067,-0.013440835095069444],\"33\":[0.7124022343757984,-0.04025706811017428],\"4\":[-1.2574708274053208,-0.13645756682290983],\"5\":[-1.4724479751140205,-0.2928454724216643],\"6\":[-1.5681240749552123,-0.13895854266398525],\"7\":[-0.49291894335348824,0.41812027687756653],\"8\":[0.19103976796141584,0.16753733928955225],\"9\":[0.410343810426645,-0.06728139405729158]}},\"id\":\"d0571e7d-95ae-41ca-b10b-d826d222d59d\",\"type\":\"StaticLayoutProvider\"},{\"attributes\":{\"callback\":null,\"end\":1.1,\"start\":-1.1},\"id\":\"ffb862ab-012e-4aee-94e7-d8ff510d969b\",\"type\":\"Range1d\"},{\"attributes\":{\"formatter\":{\"id\":\"2355602e-9ddb-4135-9a27-f8c1e8999330\",\"type\":\"BasicTickFormatter\"},\"plot\":{\"id\":\"412c3853-8bb3-4212-9741-01e4a0563eb4\",\"subtype\":\"Figure\",\"type\":\"Plot\"},\"ticker\":{\"id\":\"38eb91f6-fcab-48f7-9aa1-2590ed0cfe5a\",\"type\":\"BasicTicker\"}},\"id\":\"1a435e3f-e968-403b-98dc-3bdde7727611\",\"type\":\"LinearAxis\"},{\"attributes\":{},\"id\":\"c9413f6c-9b88-4b33-8ce3-4e96c8ebe62f\",\"type\":\"NodesOnly\"},{\"attributes\":{\"formatter\":{\"id\":\"3b45b47a-ed08-4b4b-af1c-a421e8573c13\",\"type\":\"BasicTickFormatter\"},\"plot\":{\"id\":\"412c3853-8bb3-4212-9741-01e4a0563eb4\",\"subtype\":\"Figure\",\"type\":\"Plot\"},\"ticker\":{\"id\":\"da0beac2-33fd-441b-ba9d-888cecb4402e\",\"type\":\"BasicTicker\"}},\"id\":\"ddbeea5f-4bbe-4ab8-9686-18f90237c987\",\"type\":\"LinearAxis\"},{\"attributes\":{\"plot\":{\"id\":\"412c3853-8bb3-4212-9741-01e4a0563eb4\",\"subtype\":\"Figure\",\"type\":\"Plot\"},\"ticker\":{\"id\":\"da0beac2-33fd-441b-ba9d-888cecb4402e\",\"type\":\"BasicTicker\"}},\"id\":\"9fd68dc4-9b61-41c9-87c0-fe7a04091a64\",\"type\":\"Grid\"},{\"attributes\":{},\"id\":\"3b45b47a-ed08-4b4b-af1c-a421e8573c13\",\"type\":\"BasicTickFormatter\"},{\"attributes\":{},\"id\":\"0638b0d4-066b-4c85-b4ea-3ceab7766ef8\",\"type\":\"NodesOnly\"}],\"root_ids\":[\"412c3853-8bb3-4212-9741-01e4a0563eb4\"]},\"title\":\"Bokeh Application\",\"version\":\"0.12.13\"}};\n",
       "  var render_items = [{\"docid\":\"cd2f05f3-e472-45ab-b4b7-d6e7d87c8c74\",\"elementid\":\"18b342da-e3ea-47d8-8fb1-9e21fdb7f920\",\"modelid\":\"412c3853-8bb3-4212-9741-01e4a0563eb4\"}];\n",
       "  root.Bokeh.embed.embed_items_notebook(docs_json, render_items);\n",
       "\n",
       "  }\n",
       "  if (root.Bokeh !== undefined) {\n",
       "    embed_document(root);\n",
       "  } else {\n",
       "    var attempts = 0;\n",
       "    var timer = setInterval(function(root) {\n",
       "      if (root.Bokeh !== undefined) {\n",
       "        embed_document(root);\n",
       "        clearInterval(timer);\n",
       "      }\n",
       "      attempts++;\n",
       "      if (attempts > 100) {\n",
       "        console.log(\"Bokeh: ERROR: Unable to run BokehJS code because BokehJS library is missing\")\n",
       "        clearInterval(timer);\n",
       "      }\n",
       "    }, 10, root)\n",
       "  }\n",
       "})(window);"
      ],
      "application/vnd.bokehjs_exec.v0+json": ""
     },
     "metadata": {
      "application/vnd.bokehjs_exec.v0+json": {
       "id": "412c3853-8bb3-4212-9741-01e4a0563eb4"
      }
     },
     "output_type": "display_data"
    }
   ],
   "source": [
    "import networkx as nx\n",
    "\n",
    "from bokeh.io import show, output_notebook\n",
    "from bokeh.plotting import figure\n",
    "from bokeh.models.graphs import from_networkx\n",
    "\n",
    "G=nx.karate_club_graph()\n",
    "\n",
    "plot = figure(title=\"Networkx Integration Demonstration\", x_range=(-1.1,1.1), y_range=(-1.1,1.1))\n",
    "\n",
    "graph = from_networkx(G, nx.spring_layout, scale=2, center=(0,0))\n",
    "plot.renderers.append(graph)\n",
    "\n",
    "output_notebook()\n",
    "show(plot)"
   ]
  },
  {
   "cell_type": "code",
   "execution_count": null,
   "metadata": {},
   "outputs": [],
   "source": []
  }
 ],
 "metadata": {
  "kernelspec": {
   "display_name": "Python 3",
   "language": "python",
   "name": "python3"
  },
  "language_info": {
   "codemirror_mode": {
    "name": "ipython",
    "version": 3
   },
   "file_extension": ".py",
   "mimetype": "text/x-python",
   "name": "python",
   "nbconvert_exporter": "python",
   "pygments_lexer": "ipython3",
   "version": "3.6.4"
  }
 },
 "nbformat": 4,
 "nbformat_minor": 2
}
